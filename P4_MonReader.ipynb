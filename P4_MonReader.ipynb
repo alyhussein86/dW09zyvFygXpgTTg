{
  "cells": [
    {
      "cell_type": "markdown",
      "metadata": {
        "id": "view-in-github",
        "colab_type": "text"
      },
      "source": [
        "<a href=\"https://colab.research.google.com/github/alyhussein86/dW09zyvFygXpgTTg/blob/main/P4_MonReader.ipynb\" target=\"_parent\"><img src=\"https://colab.research.google.com/assets/colab-badge.svg\" alt=\"Open In Colab\"/></a>"
      ]
    },
    {
      "cell_type": "markdown",
      "metadata": {
        "id": "3DR-eO17geWu"
      },
      "source": [
        "# Convolutional Neural Network"
      ]
    },
    {
      "cell_type": "markdown",
      "metadata": {
        "id": "EMefrVPCg-60"
      },
      "source": [
        "### Importing the libraries"
      ]
    },
    {
      "cell_type": "code",
      "source": [
        "from google.colab import drive\n",
        "drive.mount('/content/drive')"
      ],
      "metadata": {
        "colab": {
          "base_uri": "https://localhost:8080/"
        },
        "id": "zWZ1r9JqGzyF",
        "outputId": "ca38742c-a264-4330-a467-fe4a56cdc300"
      },
      "execution_count": 1,
      "outputs": [
        {
          "output_type": "stream",
          "name": "stdout",
          "text": [
            "Mounted at /content/drive\n"
          ]
        }
      ]
    },
    {
      "cell_type": "code",
      "source": [
        "pip install scikeras"
      ],
      "metadata": {
        "colab": {
          "base_uri": "https://localhost:8080/"
        },
        "id": "IUtQT_1QeNmy",
        "outputId": "86b34bac-dc82-4ff8-81b4-c6b2c2ac1954"
      },
      "execution_count": 147,
      "outputs": [
        {
          "output_type": "stream",
          "name": "stdout",
          "text": [
            "Collecting scikeras\n",
            "  Downloading scikeras-0.11.0-py3-none-any.whl (27 kB)\n",
            "Requirement already satisfied: packaging>=0.21 in /usr/local/lib/python3.10/dist-packages (from scikeras) (23.1)\n",
            "Requirement already satisfied: scikit-learn>=1.0.0 in /usr/local/lib/python3.10/dist-packages (from scikeras) (1.2.2)\n",
            "Requirement already satisfied: numpy>=1.17.3 in /usr/local/lib/python3.10/dist-packages (from scikit-learn>=1.0.0->scikeras) (1.22.4)\n",
            "Requirement already satisfied: scipy>=1.3.2 in /usr/local/lib/python3.10/dist-packages (from scikit-learn>=1.0.0->scikeras) (1.10.1)\n",
            "Requirement already satisfied: joblib>=1.1.1 in /usr/local/lib/python3.10/dist-packages (from scikit-learn>=1.0.0->scikeras) (1.3.1)\n",
            "Requirement already satisfied: threadpoolctl>=2.0.0 in /usr/local/lib/python3.10/dist-packages (from scikit-learn>=1.0.0->scikeras) (3.2.0)\n",
            "Installing collected packages: scikeras\n",
            "Successfully installed scikeras-0.11.0\n"
          ]
        }
      ]
    },
    {
      "cell_type": "code",
      "execution_count": 148,
      "metadata": {
        "id": "sCV30xyVhFbE"
      },
      "outputs": [],
      "source": [
        "import tensorflow as tf\n",
        "from PIL import Image\n",
        "from keras.preprocessing.image import ImageDataGenerator\n",
        "import numpy as np\n",
        "import matplotlib.pyplot as plt\n",
        "from sklearn.metrics import f1_score, make_scorer, confusion_matrix\n",
        "from sklearn.model_selection import GridSearchCV\n",
        "from scikeras.wrappers import KerasClassifier\n",
        "import pandas as pd"
      ]
    },
    {
      "cell_type": "code",
      "execution_count": 3,
      "metadata": {
        "colab": {
          "base_uri": "https://localhost:8080/",
          "height": 35
        },
        "id": "R9Qb5CnIGWeC",
        "outputId": "c52eed87-5bf2-4cf7-b9c7-3380c7c829bf"
      },
      "outputs": [
        {
          "output_type": "execute_result",
          "data": {
            "text/plain": [
              "'2.12.0'"
            ],
            "application/vnd.google.colaboratory.intrinsic+json": {
              "type": "string"
            }
          },
          "metadata": {},
          "execution_count": 3
        }
      ],
      "source": [
        "tf.__version__"
      ]
    },
    {
      "cell_type": "code",
      "source": [
        "import tensorflow as tf\n",
        "device_name = tf.test.gpu_device_name()\n",
        "if device_name != '/device:GPU:0':\n",
        "  raise SystemError('GPU device not found')\n",
        "print('Found GPU at: {}'.format(device_name))\n"
      ],
      "metadata": {
        "colab": {
          "base_uri": "https://localhost:8080/"
        },
        "id": "a3GXnR1UdJ5z",
        "outputId": "ee6843f2-8c9a-491b-a241-0bb52519f554"
      },
      "execution_count": 22,
      "outputs": [
        {
          "output_type": "stream",
          "name": "stdout",
          "text": [
            "Found GPU at: /device:GPU:0\n"
          ]
        }
      ]
    },
    {
      "cell_type": "markdown",
      "metadata": {
        "id": "oxQxCBWyoGPE"
      },
      "source": [
        "## Part 1 - Data Preprocessing"
      ]
    },
    {
      "cell_type": "markdown",
      "metadata": {
        "id": "MvE-heJNo3GG"
      },
      "source": [
        "### Preprocessing the Training set"
      ]
    },
    {
      "cell_type": "code",
      "execution_count": 4,
      "metadata": {
        "colab": {
          "base_uri": "https://localhost:8080/"
        },
        "id": "0koUcJMJpEBD",
        "outputId": "d15ad552-6bb6-41ea-dd63-7217bf07d186"
      },
      "outputs": [
        {
          "output_type": "stream",
          "name": "stdout",
          "text": [
            "Found 2392 images belonging to 2 classes.\n"
          ]
        }
      ],
      "source": [
        "train_datagen = ImageDataGenerator(rescale = 1./255,\n",
        "                                   shear_range = 0.2,\n",
        "                                   zoom_range = 0.2,\n",
        "                                   horizontal_flip = True,\n",
        "                                   fill_mode=\"nearest\")\n",
        "training_set = train_datagen.flow_from_directory('/content/drive/MyDrive/images/training/',\n",
        "                                                 target_size = (100, 100),\n",
        "                                                 batch_size = 64,\n",
        "                                                 class_mode = 'binary'\n",
        "                                                 )"
      ]
    },
    {
      "cell_type": "markdown",
      "metadata": {
        "id": "mrCMmGw9pHys"
      },
      "source": [
        "### Preprocessing the Test set"
      ]
    },
    {
      "cell_type": "code",
      "execution_count": 5,
      "metadata": {
        "colab": {
          "base_uri": "https://localhost:8080/"
        },
        "id": "SH4WzfOhpKc3",
        "outputId": "0b51c52d-424e-477f-87a8-c0836d0745c3"
      },
      "outputs": [
        {
          "output_type": "stream",
          "name": "stdout",
          "text": [
            "Found 597 images belonging to 2 classes.\n"
          ]
        }
      ],
      "source": [
        "test_datagen = ImageDataGenerator(rescale = 1./255,\n",
        "                                   shear_range = 0.2,\n",
        "                                   zoom_range = 0.2,\n",
        "                                   horizontal_flip = True,\n",
        "                                  fill_mode=\"nearest\")\n",
        "test_set = test_datagen.flow_from_directory('/content/drive/MyDrive/images/testing/',\n",
        "                                            target_size = (100, 100),\n",
        "                                            batch_size = 32,\n",
        "                                            class_mode = 'binary',\n",
        "                                            shuffle = False)"
      ]
    },
    {
      "cell_type": "code",
      "execution_count": 6,
      "metadata": {
        "colab": {
          "base_uri": "https://localhost:8080/"
        },
        "id": "QBJj5qmmGWeE",
        "outputId": "26510888-6716-4777-87e0-f5f16e3bb62e"
      },
      "outputs": [
        {
          "output_type": "stream",
          "name": "stdout",
          "text": [
            "{'flip': 0, 'notflip': 1}\n",
            "{'flip': 0, 'notflip': 1}\n"
          ]
        }
      ],
      "source": [
        "class_name_train = training_set.class_indices\n",
        "print(class_name_train)\n",
        "class_name_test = test_set.class_indices\n",
        "print(class_name_test)"
      ]
    },
    {
      "cell_type": "code",
      "execution_count": 7,
      "metadata": {
        "colab": {
          "base_uri": "https://localhost:8080/"
        },
        "id": "jIvF8l_-GWeE",
        "outputId": "1d1f51d5-42ae-4cbb-8a0e-5d4c10f1cfa6"
      },
      "outputs": [
        {
          "output_type": "stream",
          "name": "stdout",
          "text": [
            "(64, 100, 100, 3)\n",
            "(64,)\n"
          ]
        }
      ],
      "source": [
        "for image_batch, labels_batch in training_set:\n",
        "  print(image_batch.shape)\n",
        "  print(labels_batch.shape)\n",
        "  break"
      ]
    },
    {
      "cell_type": "code",
      "source": [
        "print(class_name_test.values())"
      ],
      "metadata": {
        "colab": {
          "base_uri": "https://localhost:8080/"
        },
        "id": "fUudOqe2dlru",
        "outputId": "00cfc479-e7cf-4985-d54d-e9b4928e013b"
      },
      "execution_count": 8,
      "outputs": [
        {
          "output_type": "stream",
          "name": "stdout",
          "text": [
            "dict_values([0, 1])\n"
          ]
        }
      ]
    },
    {
      "cell_type": "markdown",
      "metadata": {
        "id": "af8O4l90gk7B"
      },
      "source": [
        "## Part 2 - Building the CNN"
      ]
    },
    {
      "cell_type": "markdown",
      "metadata": {
        "id": "ces1gXY2lmoX"
      },
      "source": [
        "### Initialising the CNN"
      ]
    },
    {
      "cell_type": "code",
      "source": [
        "cnn = tf.keras.models.Sequential()\n"
      ],
      "metadata": {
        "id": "DnapjA8bDSmU"
      },
      "execution_count": 9,
      "outputs": []
    },
    {
      "cell_type": "code",
      "execution_count": 10,
      "metadata": {
        "id": "QNXznwOcGWeG",
        "outputId": "c4596e17-2ff0-4831-c4dc-5551ff4c9f91",
        "colab": {
          "base_uri": "https://localhost:8080/",
          "height": 35
        }
      },
      "outputs": [
        {
          "output_type": "execute_result",
          "data": {
            "text/plain": [
              "'float32'"
            ],
            "application/vnd.google.colaboratory.intrinsic+json": {
              "type": "string"
            }
          },
          "metadata": {},
          "execution_count": 10
        }
      ],
      "source": [
        "cnn.dtype"
      ]
    },
    {
      "cell_type": "markdown",
      "metadata": {
        "id": "u5YJj_XMl5LF"
      },
      "source": [
        "### Step 1 - Convolution"
      ]
    },
    {
      "cell_type": "code",
      "source": [
        "cnn.add(tf.keras.layers.Conv2D(filters=32, kernel_size=4, activation='relu', input_shape=[100, 100, 3]))\n"
      ],
      "metadata": {
        "id": "dtzn7qApDb4p"
      },
      "execution_count": 11,
      "outputs": []
    },
    {
      "cell_type": "markdown",
      "metadata": {
        "id": "tf87FpvxmNOJ"
      },
      "source": [
        "### Step 2 - Pooling"
      ]
    },
    {
      "cell_type": "markdown",
      "metadata": {
        "id": "xaTOgD8rm4mU"
      },
      "source": [
        "### Adding a second convolutional layer"
      ]
    },
    {
      "cell_type": "code",
      "source": [
        "cnn.add(tf.keras.layers.Conv2D(32, (3,3), activation='relu', input_shape=(100,100,3)))\n",
        "cnn.add(tf.keras.layers.MaxPool2D((3,3)))\n",
        "cnn.add(tf.keras.layers.Conv2D(64, (3,3), activation='relu'))\n",
        "cnn.add(tf.keras.layers.MaxPool2D((3,3)))\n",
        "cnn.add(tf.keras.layers.Conv2D(128, (3,3), activation='relu'))\n",
        "cnn.add(tf.keras.layers.MaxPool2D((3,3)))"
      ],
      "metadata": {
        "id": "rbdKvCKeDu1p"
      },
      "execution_count": 12,
      "outputs": []
    },
    {
      "cell_type": "markdown",
      "metadata": {
        "id": "tmiEuvTunKfk"
      },
      "source": [
        "### Step 3 - Flattening"
      ]
    },
    {
      "cell_type": "code",
      "execution_count": 13,
      "metadata": {
        "id": "6AZeOGCvnNZn"
      },
      "outputs": [],
      "source": [
        "cnn.add(tf.keras.layers.Flatten())"
      ]
    },
    {
      "cell_type": "markdown",
      "metadata": {
        "id": "dAoSECOm203v"
      },
      "source": [
        "### Step 4 - Full Connection"
      ]
    },
    {
      "cell_type": "code",
      "execution_count": 14,
      "metadata": {
        "id": "8GtmUlLd26Nq"
      },
      "outputs": [],
      "source": [
        "cnn.add(tf.keras.layers.Dense(units=256, activation='relu'))"
      ]
    },
    {
      "cell_type": "markdown",
      "metadata": {
        "id": "yTldFvbX28Na"
      },
      "source": [
        "### Step 5 - Output Layer"
      ]
    },
    {
      "cell_type": "code",
      "execution_count": 15,
      "metadata": {
        "id": "1p_Zj1Mc3Ko_"
      },
      "outputs": [],
      "source": [
        "cnn.add(tf.keras.layers.Dense(units=1, activation='sigmoid'))"
      ]
    },
    {
      "cell_type": "code",
      "execution_count": 17,
      "metadata": {
        "id": "Ccp6HpcmGWeL",
        "outputId": "1041ed94-87fe-47d8-b6b2-bd6ad8e84e88",
        "colab": {
          "base_uri": "https://localhost:8080/"
        }
      },
      "outputs": [
        {
          "output_type": "stream",
          "name": "stdout",
          "text": [
            "Model: \"sequential\"\n",
            "_________________________________________________________________\n",
            " Layer (type)                Output Shape              Param #   \n",
            "=================================================================\n",
            " conv2d (Conv2D)             (None, 97, 97, 32)        1568      \n",
            "                                                                 \n",
            " conv2d_1 (Conv2D)           (None, 95, 95, 32)        9248      \n",
            "                                                                 \n",
            " max_pooling2d (MaxPooling2D  (None, 31, 31, 32)       0         \n",
            " )                                                               \n",
            "                                                                 \n",
            " conv2d_2 (Conv2D)           (None, 29, 29, 64)        18496     \n",
            "                                                                 \n",
            " max_pooling2d_1 (MaxPooling  (None, 9, 9, 64)         0         \n",
            " 2D)                                                             \n",
            "                                                                 \n",
            " conv2d_3 (Conv2D)           (None, 7, 7, 128)         73856     \n",
            "                                                                 \n",
            " max_pooling2d_2 (MaxPooling  (None, 2, 2, 128)        0         \n",
            " 2D)                                                             \n",
            "                                                                 \n",
            " flatten (Flatten)           (None, 512)               0         \n",
            "                                                                 \n",
            " dense (Dense)               (None, 256)               131328    \n",
            "                                                                 \n",
            " dense_1 (Dense)             (None, 1)                 257       \n",
            "                                                                 \n",
            "=================================================================\n",
            "Total params: 234,753\n",
            "Trainable params: 234,753\n",
            "Non-trainable params: 0\n",
            "_________________________________________________________________\n"
          ]
        }
      ],
      "source": [
        "cnn.summary()"
      ]
    },
    {
      "cell_type": "markdown",
      "metadata": {
        "id": "D6XkI90snSDl"
      },
      "source": [
        "## Part 3 - Training the CNN"
      ]
    },
    {
      "cell_type": "markdown",
      "metadata": {
        "id": "vfrFQACEnc6i"
      },
      "source": [
        "### Compiling the CNN"
      ]
    },
    {
      "cell_type": "code",
      "execution_count": 18,
      "metadata": {
        "id": "NALksrNQpUlJ"
      },
      "outputs": [],
      "source": [
        "cnn.compile(optimizer=tf.keras.optimizers.Adam(learning_rate=1e-3),\n",
        "              loss=tf.keras.losses.binary_crossentropy,\n",
        "              metrics=[tf.keras.metrics.BinaryAccuracy()])\n",
        "              # ,tf.keras.metrics.FalseNegatives()])"
      ]
    },
    {
      "cell_type": "code",
      "execution_count": 19,
      "metadata": {
        "id": "kbqUyqD2GWeN"
      },
      "outputs": [],
      "source": [
        "# cnn.compile(optimizer='adam',\n",
        "#               loss=tf.keras.losses.SparseCategoricalCrossentropy(from_logits=True),\n",
        "#               metrics=['accuracy'])"
      ]
    },
    {
      "cell_type": "code",
      "execution_count": 20,
      "metadata": {
        "id": "gOe4iGJJGWeN",
        "outputId": "1091ec9e-e809-4400-a2d3-3d4f79198a3e",
        "colab": {
          "base_uri": "https://localhost:8080/"
        }
      },
      "outputs": [
        {
          "output_type": "stream",
          "name": "stdout",
          "text": [
            "(None, 1)\n"
          ]
        }
      ],
      "source": [
        "print(cnn.output_shape)"
      ]
    },
    {
      "cell_type": "code",
      "execution_count": 21,
      "metadata": {
        "id": "UEGa79eqGWeN",
        "outputId": "2872bcf4-b065-4116-c28c-95dc2d7c6f52",
        "colab": {
          "base_uri": "https://localhost:8080/"
        }
      },
      "outputs": [
        {
          "output_type": "stream",
          "name": "stdout",
          "text": [
            "(None, 100, 100, 3)\n"
          ]
        }
      ],
      "source": [
        "print(cnn.input_shape)"
      ]
    },
    {
      "cell_type": "markdown",
      "metadata": {
        "id": "ehS-v3MIpX2h"
      },
      "source": [
        "### Training the CNN on the Training set and evaluating it on the Test set"
      ]
    },
    {
      "cell_type": "code",
      "execution_count": 23,
      "metadata": {
        "id": "XUj1W4PJptta",
        "outputId": "49aed1d8-8a57-4b9c-b743-307380670766",
        "colab": {
          "base_uri": "https://localhost:8080/"
        }
      },
      "outputs": [
        {
          "output_type": "stream",
          "name": "stdout",
          "text": [
            "Epoch 1/25\n",
            "38/38 [==============================] - 878s 23s/step - loss: 0.6911 - binary_accuracy: 0.5552 - val_loss: 0.6818 - val_binary_accuracy: 0.4858\n",
            "Epoch 2/25\n",
            "38/38 [==============================] - 52s 1s/step - loss: 0.6285 - binary_accuracy: 0.6484 - val_loss: 0.5787 - val_binary_accuracy: 0.7136\n",
            "Epoch 3/25\n",
            "38/38 [==============================] - 50s 1s/step - loss: 0.5740 - binary_accuracy: 0.7199 - val_loss: 0.5794 - val_binary_accuracy: 0.6868\n",
            "Epoch 4/25\n",
            "38/38 [==============================] - 49s 1s/step - loss: 0.5189 - binary_accuracy: 0.7584 - val_loss: 0.4583 - val_binary_accuracy: 0.8074\n",
            "Epoch 5/25\n",
            "38/38 [==============================] - 51s 1s/step - loss: 0.4470 - binary_accuracy: 0.8094 - val_loss: 0.3984 - val_binary_accuracy: 0.8291\n",
            "Epoch 6/25\n",
            "38/38 [==============================] - 52s 1s/step - loss: 0.3789 - binary_accuracy: 0.8453 - val_loss: 0.3154 - val_binary_accuracy: 0.8760\n",
            "Epoch 7/25\n",
            "38/38 [==============================] - 50s 1s/step - loss: 0.3435 - binary_accuracy: 0.8583 - val_loss: 0.3207 - val_binary_accuracy: 0.8777\n",
            "Epoch 8/25\n",
            "38/38 [==============================] - 49s 1s/step - loss: 0.2571 - binary_accuracy: 0.9038 - val_loss: 0.2160 - val_binary_accuracy: 0.9246\n",
            "Epoch 9/25\n",
            "38/38 [==============================] - 55s 1s/step - loss: 0.2665 - binary_accuracy: 0.8892 - val_loss: 0.2162 - val_binary_accuracy: 0.9330\n",
            "Epoch 10/25\n",
            "38/38 [==============================] - 47s 1s/step - loss: 0.1922 - binary_accuracy: 0.9281 - val_loss: 0.2978 - val_binary_accuracy: 0.8777\n",
            "Epoch 11/25\n",
            "38/38 [==============================] - 48s 1s/step - loss: 0.2078 - binary_accuracy: 0.9202 - val_loss: 0.1860 - val_binary_accuracy: 0.9179\n",
            "Epoch 12/25\n",
            "38/38 [==============================] - 49s 1s/step - loss: 0.1863 - binary_accuracy: 0.9264 - val_loss: 0.1834 - val_binary_accuracy: 0.9229\n",
            "Epoch 13/25\n",
            "38/38 [==============================] - 51s 1s/step - loss: 0.1579 - binary_accuracy: 0.9335 - val_loss: 0.1613 - val_binary_accuracy: 0.9330\n",
            "Epoch 14/25\n",
            "38/38 [==============================] - 49s 1s/step - loss: 0.1266 - binary_accuracy: 0.9515 - val_loss: 0.1309 - val_binary_accuracy: 0.9497\n",
            "Epoch 15/25\n",
            "38/38 [==============================] - 50s 1s/step - loss: 0.1451 - binary_accuracy: 0.9406 - val_loss: 0.1430 - val_binary_accuracy: 0.9414\n",
            "Epoch 16/25\n",
            "38/38 [==============================] - 51s 1s/step - loss: 0.1338 - binary_accuracy: 0.9465 - val_loss: 0.1442 - val_binary_accuracy: 0.9414\n",
            "Epoch 17/25\n",
            "38/38 [==============================] - 48s 1s/step - loss: 0.1131 - binary_accuracy: 0.9586 - val_loss: 0.1344 - val_binary_accuracy: 0.9447\n",
            "Epoch 18/25\n",
            "38/38 [==============================] - 50s 1s/step - loss: 0.0937 - binary_accuracy: 0.9632 - val_loss: 0.1920 - val_binary_accuracy: 0.9196\n",
            "Epoch 19/25\n",
            "38/38 [==============================] - 48s 1s/step - loss: 0.0872 - binary_accuracy: 0.9666 - val_loss: 0.1217 - val_binary_accuracy: 0.9531\n",
            "Epoch 20/25\n",
            "38/38 [==============================] - 50s 1s/step - loss: 0.1369 - binary_accuracy: 0.9544 - val_loss: 0.1678 - val_binary_accuracy: 0.9296\n",
            "Epoch 21/25\n",
            "38/38 [==============================] - 51s 1s/step - loss: 0.1119 - binary_accuracy: 0.9574 - val_loss: 0.1117 - val_binary_accuracy: 0.9581\n",
            "Epoch 22/25\n",
            "38/38 [==============================] - 48s 1s/step - loss: 0.0870 - binary_accuracy: 0.9649 - val_loss: 0.1280 - val_binary_accuracy: 0.9414\n",
            "Epoch 23/25\n",
            "38/38 [==============================] - 51s 1s/step - loss: 0.0839 - binary_accuracy: 0.9686 - val_loss: 0.1032 - val_binary_accuracy: 0.9648\n",
            "Epoch 24/25\n",
            "38/38 [==============================] - 50s 1s/step - loss: 0.0891 - binary_accuracy: 0.9661 - val_loss: 0.1043 - val_binary_accuracy: 0.9615\n",
            "Epoch 25/25\n",
            "38/38 [==============================] - 47s 1s/step - loss: 0.0650 - binary_accuracy: 0.9783 - val_loss: 0.0761 - val_binary_accuracy: 0.9715\n"
          ]
        }
      ],
      "source": [
        "history = cnn.fit(x = training_set, validation_data = test_set, epochs = 25, batch_size= 25)"
      ]
    },
    {
      "cell_type": "code",
      "execution_count": 24,
      "metadata": {
        "id": "N2g76tSYGWeO",
        "colab": {
          "base_uri": "https://localhost:8080/",
          "height": 699
        },
        "outputId": "ae7b7621-060e-4cef-deb2-762e0c244b76"
      },
      "outputs": [
        {
          "output_type": "display_data",
          "data": {
            "text/plain": [
              "<Figure size 800x800 with 2 Axes>"
            ],
            "image/png": "[encoded data removed]"
          },
          "metadata": {}
        }
      ],
      "source": [
        "acc = history.history['binary_accuracy']\n",
        "val_acc = history.history['val_binary_accuracy']\n",
        "\n",
        "loss = history.history['loss']\n",
        "val_loss = history.history['val_loss']\n",
        "\n",
        "epochs_range = range(25)\n",
        "\n",
        "plt.figure(figsize=(8, 8))\n",
        "plt.subplot(1, 2, 1)\n",
        "plt.plot(epochs_range, acc, label='Training Accuracy')\n",
        "plt.plot(epochs_range, val_acc, label='Validation Accuracy')\n",
        "plt.legend(loc='lower right')\n",
        "plt.title('Training and Validation Accuracy')\n",
        "\n",
        "plt.subplot(1, 2, 2)\n",
        "plt.plot(epochs_range, loss, label='Training Loss')\n",
        "plt.plot(epochs_range, val_loss, label='Validation Loss')\n",
        "plt.legend(loc='upper right')\n",
        "plt.title('Training and Validation Loss')\n",
        "plt.show()"
      ]
    },
    {
      "cell_type": "markdown",
      "metadata": {
        "id": "U3PZasO0006Z"
      },
      "source": [
        "## Part 4 - Making a single prediction"
      ]
    },
    {
      "cell_type": "code",
      "execution_count": 26,
      "metadata": {
        "id": "gsSiWEJY1BPB",
        "colab": {
          "base_uri": "https://localhost:8080/"
        },
        "outputId": "ae59fd92-2148-4c03-be95-a3c18a62840c"
      },
      "outputs": [
        {
          "output_type": "stream",
          "name": "stdout",
          "text": [
            "1/1 [==============================] - 0s 255ms/step\n",
            "[[0.99215186]]\n",
            "Flip\n"
          ]
        }
      ],
      "source": [
        "# test_image = Image.open('/content/drive/MyDrive/images/flip_or_noflip_1.jpg')\n",
        "test_image =  Image.open('/content/drive/MyDrive/images/flip_or_noflip_2.jpg')\n",
        "test_image = test_image.resize((100, 100))\n",
        "test_image = np.expand_dims(test_image, axis = 0)\n",
        "image_array = np.array(test_image)/255.0\n",
        "\n",
        "# Reshape the image array to match the input shape expected by the model\n",
        "# input_array = image_array.reshape(1, 100, 100, 3)  # Assuming a color image with shape (64, 64, 3)\n",
        "result_i = cnn.predict(image_array)\n",
        "print(result_i)\n",
        "training_set.class_indices\n",
        "if result_i[0][0] >= 0.5:\n",
        "  prediction = 'Flip'\n",
        "else:\n",
        "  prediction = 'NotFlip'\n",
        "\n",
        "print(prediction)"
      ]
    },
    {
      "cell_type": "code",
      "source": [
        "cnn.evaluate(test_set)"
      ],
      "metadata": {
        "id": "iY46Olt-wVMX",
        "colab": {
          "base_uri": "https://localhost:8080/"
        },
        "outputId": "c464dd12-841c-4058-9a66-f6931fd3b540"
      },
      "execution_count": 25,
      "outputs": [
        {
          "output_type": "stream",
          "name": "stdout",
          "text": [
            "19/19 [==============================] - 10s 520ms/step - loss: 0.0708 - binary_accuracy: 0.9749\n"
          ]
        },
        {
          "output_type": "execute_result",
          "data": {
            "text/plain": [
              "[0.07080201059579849, 0.9748743772506714]"
            ]
          },
          "metadata": {},
          "execution_count": 25
        }
      ]
    },
    {
      "cell_type": "code",
      "source": [
        "y_pred = cnn.predict(test_set)"
      ],
      "metadata": {
        "id": "iLWIO8AYa8z1",
        "colab": {
          "base_uri": "https://localhost:8080/"
        },
        "outputId": "f1fa3a8d-171b-4165-97cb-32097cb9f03c"
      },
      "execution_count": 27,
      "outputs": [
        {
          "output_type": "stream",
          "name": "stdout",
          "text": [
            "19/19 [==============================] - 10s 552ms/step\n"
          ]
        }
      ]
    },
    {
      "cell_type": "markdown",
      "source": [
        "Adding Another Augmented Flipped layer"
      ],
      "metadata": {
        "id": "4L6OWIT1oSzi"
      }
    },
    {
      "cell_type": "code",
      "source": [
        "data_augmentation = tf.keras.models.Sequential(\n",
        "  [\n",
        "    tf.keras.layers.RandomFlip(\"horizontal\",\n",
        "                      input_shape=(100,\n",
        "                                  100,\n",
        "                                  3)),\n",
        "    tf.keras.layers.RandomRotation(0.1),\n",
        "    tf.keras.layers.RandomZoom(0.1),\n",
        "  ]\n",
        ")"
      ],
      "metadata": {
        "id": "6_DtpgT4n4Pa"
      },
      "execution_count": 193,
      "outputs": []
    },
    {
      "cell_type": "code",
      "source": [
        "cnn = tf.keras.models.Sequential([\n",
        "  data_augmentation,\n",
        "  tf.keras.layers.Rescaling(1./255),\n",
        "  tf.keras.layers.Conv2D(16, 3, activation='relu'),\n",
        "  tf.keras.layers.MaxPooling2D(),\n",
        "  tf.keras.layers.Conv2D(32, 3, activation='relu'),\n",
        "  tf.keras.layers.MaxPooling2D(),\n",
        "  tf.keras.layers.Conv2D(64, 3, activation='relu'),\n",
        "  tf.keras.layers.MaxPooling2D(),\n",
        "  tf.keras.layers.Dropout(0.2),\n",
        "  tf.keras.layers.Flatten(),\n",
        "  tf.keras.layers.Dense(128, activation='relu')\n",
        "])"
      ],
      "metadata": {
        "id": "SvDZEN7doa_h"
      },
      "execution_count": 197,
      "outputs": []
    },
    {
      "cell_type": "code",
      "source": [
        "cnn.add(tf.keras.layers.Dense(units=1, activation='sigmoid'))"
      ],
      "metadata": {
        "id": "8UU_4IJIp4Qp"
      },
      "execution_count": 200,
      "outputs": []
    },
    {
      "cell_type": "code",
      "source": [
        "cnn.summary()"
      ],
      "metadata": {
        "colab": {
          "base_uri": "https://localhost:8080/"
        },
        "id": "HMtqqh20pcY4",
        "outputId": "29410d92-27d3-4454-a2c9-eeaa295cc39c"
      },
      "execution_count": 201,
      "outputs": [
        {
          "output_type": "stream",
          "name": "stdout",
          "text": [
            "Model: \"sequential_2\"\n",
            "_________________________________________________________________\n",
            " Layer (type)                Output Shape              Param #   \n",
            "=================================================================\n",
            " sequential_1 (Sequential)   (None, 100, 100, 3)       0         \n",
            "                                                                 \n",
            " rescaling_3 (Rescaling)     (None, 100, 100, 3)       0         \n",
            "                                                                 \n",
            " conv2d_13 (Conv2D)          (None, 98, 98, 16)        448       \n",
            "                                                                 \n",
            " max_pooling2d_12 (MaxPoolin  (None, 49, 49, 16)       0         \n",
            " g2D)                                                            \n",
            "                                                                 \n",
            " conv2d_14 (Conv2D)          (None, 47, 47, 32)        4640      \n",
            "                                                                 \n",
            " max_pooling2d_13 (MaxPoolin  (None, 23, 23, 32)       0         \n",
            " g2D)                                                            \n",
            "                                                                 \n",
            " conv2d_15 (Conv2D)          (None, 21, 21, 64)        18496     \n",
            "                                                                 \n",
            " max_pooling2d_14 (MaxPoolin  (None, 10, 10, 64)       0         \n",
            " g2D)                                                            \n",
            "                                                                 \n",
            " dropout_3 (Dropout)         (None, 10, 10, 64)        0         \n",
            "                                                                 \n",
            " flatten_4 (Flatten)         (None, 6400)              0         \n",
            "                                                                 \n",
            " dense_5 (Dense)             (None, 128)               819328    \n",
            "                                                                 \n",
            " dense_6 (Dense)             (None, 1)                 129       \n",
            "                                                                 \n",
            "=================================================================\n",
            "Total params: 843,041\n",
            "Trainable params: 843,041\n",
            "Non-trainable params: 0\n",
            "_________________________________________________________________\n"
          ]
        }
      ]
    },
    {
      "cell_type": "code",
      "source": [
        "cnn.output"
      ],
      "metadata": {
        "colab": {
          "base_uri": "https://localhost:8080/"
        },
        "id": "4VBVviDmppiO",
        "outputId": "826e5204-0d98-449b-c101-9c1329527ea7"
      },
      "execution_count": 202,
      "outputs": [
        {
          "output_type": "execute_result",
          "data": {
            "text/plain": [
              "<KerasTensor: shape=(None, 1) dtype=float32 (created by layer 'dense_6')>"
            ]
          },
          "metadata": {},
          "execution_count": 202
        }
      ]
    },
    {
      "cell_type": "code",
      "source": [
        "cnn.compile(optimizer=tf.keras.optimizers.Adam(learning_rate=1e-3),\n",
        "              loss=tf.keras.losses.binary_crossentropy,\n",
        "              metrics=[tf.keras.metrics.BinaryAccuracy()])"
      ],
      "metadata": {
        "id": "yUS0xFmYp8A2"
      },
      "execution_count": 203,
      "outputs": []
    },
    {
      "cell_type": "markdown",
      "metadata": {
        "id": "v8DDB9JAqOIA"
      },
      "source": [
        "### Training the additional CNN on the Training set and evaluating it on the Test set"
      ]
    },
    {
      "cell_type": "code",
      "execution_count": null,
      "metadata": {
        "outputId": "6caf094c-bbe4-4fc6-b347-6fa55896522e",
        "colab": {
          "base_uri": "https://localhost:8080/"
        },
        "id": "UEuyuM9zqOIB"
      },
      "outputs": [
        {
          "output_type": "stream",
          "name": "stdout",
          "text": [
            "Epoch 1/25\n",
            "38/38 [==============================] - 70s 2s/step - loss: 0.6936 - binary_accuracy: 0.5067 - val_loss: 0.6929 - val_binary_accuracy: 0.5142\n",
            "Epoch 2/25\n",
            "38/38 [==============================] - 53s 1s/step - loss: 0.6931 - binary_accuracy: 0.5142 - val_loss: 0.6929 - val_binary_accuracy: 0.5142\n",
            "Epoch 3/25\n",
            "38/38 [==============================] - 51s 1s/step - loss: 0.6929 - binary_accuracy: 0.5142 - val_loss: 0.6928 - val_binary_accuracy: 0.5142\n",
            "Epoch 4/25\n",
            "38/38 [==============================] - 52s 1s/step - loss: 0.6929 - binary_accuracy: 0.5142 - val_loss: 0.6927 - val_binary_accuracy: 0.5142\n",
            "Epoch 5/25\n",
            "38/38 [==============================] - 51s 1s/step - loss: 0.6928 - binary_accuracy: 0.5142 - val_loss: 0.6927 - val_binary_accuracy: 0.5142\n",
            "Epoch 6/25\n",
            "38/38 [==============================] - 50s 1s/step - loss: 0.6929 - binary_accuracy: 0.5142 - val_loss: 0.6927 - val_binary_accuracy: 0.5142\n",
            "Epoch 7/25\n",
            "38/38 [==============================] - 51s 1s/step - loss: 0.6929 - binary_accuracy: 0.5142 - val_loss: 0.6928 - val_binary_accuracy: 0.5142\n",
            "Epoch 8/25\n",
            "38/38 [==============================] - 48s 1s/step - loss: 0.6928 - binary_accuracy: 0.5142 - val_loss: 0.6927 - val_binary_accuracy: 0.5142\n",
            "Epoch 9/25\n",
            "38/38 [==============================] - 49s 1s/step - loss: 0.6928 - binary_accuracy: 0.5142 - val_loss: 0.6927 - val_binary_accuracy: 0.5142\n",
            "Epoch 10/25\n",
            "38/38 [==============================] - 51s 1s/step - loss: 0.6931 - binary_accuracy: 0.5142 - val_loss: 0.6927 - val_binary_accuracy: 0.5142\n",
            "Epoch 11/25\n",
            "38/38 [==============================] - 51s 1s/step - loss: 0.6928 - binary_accuracy: 0.5142 - val_loss: 0.6927 - val_binary_accuracy: 0.5142\n",
            "Epoch 12/25\n",
            "38/38 [==============================] - 50s 1s/step - loss: 0.6928 - binary_accuracy: 0.5142 - val_loss: 0.6928 - val_binary_accuracy: 0.5142\n",
            "Epoch 13/25\n",
            "38/38 [==============================] - 52s 1s/step - loss: 0.6928 - binary_accuracy: 0.5142 - val_loss: 0.6928 - val_binary_accuracy: 0.5142\n",
            "Epoch 14/25\n",
            "38/38 [==============================] - 48s 1s/step - loss: 0.6928 - binary_accuracy: 0.5142 - val_loss: 0.6927 - val_binary_accuracy: 0.5142\n",
            "Epoch 15/25\n",
            "25/38 [==================>...........] - ETA: 14s - loss: 0.6924 - binary_accuracy: 0.5212"
          ]
        }
      ],
      "source": [
        "history = cnn.fit(x = training_set, validation_data = test_set, epochs = 10, batch_size= 100)"
      ]
    },
    {
      "cell_type": "code",
      "execution_count": null,
      "metadata": {
        "id": "wCKyfHTgqOIB"
      },
      "outputs": [],
      "source": [
        "acc = history.history['binary_accuracy']\n",
        "val_acc = history.history['val_binary_accuracy']\n",
        "\n",
        "loss = history.history['loss']\n",
        "val_loss = history.history['val_loss']\n",
        "\n",
        "epochs_range = range(25)\n",
        "\n",
        "plt.figure(figsize=(8, 8))\n",
        "plt.subplot(1, 2, 1)\n",
        "plt.plot(epochs_range, acc, label='Training Accuracy')\n",
        "plt.plot(epochs_range, val_acc, label='Validation Accuracy')\n",
        "plt.legend(loc='lower right')\n",
        "plt.title('Training and Validation Accuracy')\n",
        "\n",
        "plt.subplot(1, 2, 2)\n",
        "plt.plot(epochs_range, loss, label='Training Loss')\n",
        "plt.plot(epochs_range, val_loss, label='Validation Loss')\n",
        "plt.legend(loc='upper right')\n",
        "plt.title('Training and Validation Loss')\n",
        "plt.show()"
      ]
    },
    {
      "cell_type": "code",
      "source": [
        "cnn.evaluate(test_set)"
      ],
      "metadata": {
        "id": "LnxiVfJ0qbIh"
      },
      "execution_count": null,
      "outputs": []
    },
    {
      "cell_type": "markdown",
      "source": [
        "Setting New Predictions"
      ],
      "metadata": {
        "id": "AOHnX8V7qCH5"
      }
    },
    {
      "cell_type": "code",
      "execution_count": 129,
      "metadata": {
        "id": "9x35B0VHGWeP",
        "colab": {
          "base_uri": "https://localhost:8080/"
        },
        "outputId": "26c41c7b-d71b-4d99-ce80-8bbd503a2e9c"
      },
      "outputs": [
        {
          "output_type": "stream",
          "name": "stdout",
          "text": [
            "[0 0 0 0 0 0 0 0 0 0 0 0 0 0 0 0 0 0 0 0 0 0 0 0 0 0 0 0 0 0 0 0 0 0 0 0 0\n",
            " 0 0 0 0 0 0 0 0 0 0 0 0 0 0 0 0 0 0 0 0 0 0 0 0 0 0 0 0 0 0 0 0 0 0 0 0 0\n",
            " 0 0 0 0 0 0 0 0 0 0 0 0 0 0 0 0 0 0 0 0 0 0 0 0 0 0 0 0 0 0 0 0 0 0 0 0 0\n",
            " 0 0 0 0 0 0 0 0 0 0 0 0 0 0 0 0 0 0 0 0 0 0 0 0 0 0 0 0 0 0 0 0 0 0 0 0 0\n",
            " 0 0 0 0 0 0 0 0 0 0 0 0 0 0 0 0 0 0 0 0 0 0 0 0 0 0 0 0 0 0 0 0 0 0 0 0 0\n",
            " 0 0 0 0 0 0 0 0 0 0 0 0 0 0 0 0 0 0 0 0 0 0 0 0 0 0 0 0 0 0 0 0 0 0 0 0 0\n",
            " 0 0 0 0 0 0 0 0 0 0 0 0 0 0 0 0 0 0 0 0 0 0 0 0 0 0 0 0 0 0 0 0 0 0 0 0 0\n",
            " 0 0 0 0 0 0 0 0 0 0 0 0 0 0 0 0 0 0 0 0 0 0 0 0 0 0 0 0 0 0 0 0 0 0 0 0 0\n",
            " 0 0 0 0 0 0 0 0 0 0 0 0 0 0 0 0 0 0 0 0 0 0 0 0 0 0 0 0 0 0 0 0 0 0 0 0 0\n",
            " 0 0 0 0 0 0 0 0 0 0 0 0 0 0 0 0 0 0 0 0 0 0 0 0 0 0 0 0 0 0 0 0 0 0 0 0 0\n",
            " 0 0 0 0 0 0 0 0 0 0 0 0 0 0 0 0 0 0 0 0 0 0 0 0 0 0 0 0 0 0 0 0 0 0 0 0 0\n",
            " 0 0 0 0 0 0 0 0 0 0 0 0 0 0 0 0 0 0 0 0 0 0 0 0 0 0 0 0 0 0 0 0 0 0 0 0 0\n",
            " 0 0 0 0 0 0 0 0 0 0 0 0 0 0 0 0 0 0 0 0 0 0 0 0 0 0 0 0 0 0 0 0 0 0 0 0 0\n",
            " 0 0 0 0 0 0 0 0 0 0 0 0 0 0 0 0 0 0 0 0 0 0 0 0 0 0 0 0 0 0 0 0 0 0 0 0 0\n",
            " 0 0 0 0 0 0 0 0 0 0 0 0 0 0 0 0 0 0 0 0 0 0 0 0 0 0 0 0 0 0 0 0 0 0 0 0 0\n",
            " 0 0 0 0 0 0 0 0 0 0 0 0 0 0 0 0 0 0 0 0 0 0 0 0 0 0 0 0 0 0 0 0 0 0 0 0 0\n",
            " 0 0 0 0 0]\n"
          ]
        }
      ],
      "source": [
        "predicted_labels = np.argmax(y_pred, axis=1)  # Convert probabilities to class labels\n",
        "print(predicted_labels)"
      ]
    },
    {
      "cell_type": "code",
      "execution_count": 28,
      "metadata": {
        "id": "ED9KB3I54c1i",
        "outputId": "ec82ff0e-349d-4a96-bda6-2adac16e362f",
        "colab": {
          "base_uri": "https://localhost:8080/"
        }
      },
      "outputs": [
        {
          "output_type": "stream",
          "name": "stdout",
          "text": [
            "597\n"
          ]
        }
      ],
      "source": [
        "print(len(y_pred))"
      ]
    },
    {
      "cell_type": "code",
      "source": [
        "print(test_set.classes)"
      ],
      "metadata": {
        "colab": {
          "base_uri": "https://localhost:8080/"
        },
        "id": "H7xqOyTGM60b",
        "outputId": "2f9cfd94-271c-4a41-cfc3-0dd13f21ccc4"
      },
      "execution_count": 192,
      "outputs": [
        {
          "output_type": "stream",
          "name": "stdout",
          "text": [
            "[0 0 0 0 0 0 0 0 0 0 0 0 0 0 0 0 0 0 0 0 0 0 0 0 0 0 0 0 0 0 0 0 0 0 0 0 0\n",
            " 0 0 0 0 0 0 0 0 0 0 0 0 0 0 0 0 0 0 0 0 0 0 0 0 0 0 0 0 0 0 0 0 0 0 0 0 0\n",
            " 0 0 0 0 0 0 0 0 0 0 0 0 0 0 0 0 0 0 0 0 0 0 0 0 0 0 0 0 0 0 0 0 0 0 0 0 0\n",
            " 0 0 0 0 0 0 0 0 0 0 0 0 0 0 0 0 0 0 0 0 0 0 0 0 0 0 0 0 0 0 0 0 0 0 0 0 0\n",
            " 0 0 0 0 0 0 0 0 0 0 0 0 0 0 0 0 0 0 0 0 0 0 0 0 0 0 0 0 0 0 0 0 0 0 0 0 0\n",
            " 0 0 0 0 0 0 0 0 0 0 0 0 0 0 0 0 0 0 0 0 0 0 0 0 0 0 0 0 0 0 0 0 0 0 0 0 0\n",
            " 0 0 0 0 0 0 0 0 0 0 0 0 0 0 0 0 0 0 0 0 0 0 0 0 0 0 0 0 0 0 0 0 0 0 0 0 0\n",
            " 0 0 0 0 0 0 0 0 0 0 0 0 0 0 0 0 0 0 0 0 0 0 0 0 0 0 0 0 0 0 0 1 1 1 1 1 1\n",
            " 1 1 1 1 1 1 1 1 1 1 1 1 1 1 1 1 1 1 1 1 1 1 1 1 1 1 1 1 1 1 1 1 1 1 1 1 1\n",
            " 1 1 1 1 1 1 1 1 1 1 1 1 1 1 1 1 1 1 1 1 1 1 1 1 1 1 1 1 1 1 1 1 1 1 1 1 1\n",
            " 1 1 1 1 1 1 1 1 1 1 1 1 1 1 1 1 1 1 1 1 1 1 1 1 1 1 1 1 1 1 1 1 1 1 1 1 1\n",
            " 1 1 1 1 1 1 1 1 1 1 1 1 1 1 1 1 1 1 1 1 1 1 1 1 1 1 1 1 1 1 1 1 1 1 1 1 1\n",
            " 1 1 1 1 1 1 1 1 1 1 1 1 1 1 1 1 1 1 1 1 1 1 1 1 1 1 1 1 1 1 1 1 1 1 1 1 1\n",
            " 1 1 1 1 1 1 1 1 1 1 1 1 1 1 1 1 1 1 1 1 1 1 1 1 1 1 1 1 1 1 1 1 1 1 1 1 1\n",
            " 1 1 1 1 1 1 1 1 1 1 1 1 1 1 1 1 1 1 1 1 1 1 1 1 1 1 1 1 1 1 1 1 1 1 1 1 1\n",
            " 1 1 1 1 1 1 1 1 1 1 1 1 1 1 1 1 1 1 1 1 1 1 1 1 1 1 1 1 1 1 1 1 1 1 1 1 1\n",
            " 1 1 1 1 1]\n"
          ]
        }
      ]
    },
    {
      "cell_type": "code",
      "source": [
        "thresholds = np.arange(21)*0.05\n",
        "f1 = []\n",
        "\n",
        "for thres in thresholds:\n",
        "    y_predics = np.where(y_pred > thres, 1, 0)\n",
        "    f1.append(f1_score(test_set.classes, y_predics))\n",
        "\n",
        "plt.figure()\n",
        "plt.plot(thresholds, f1, label='f1_score')\n",
        "plt.xlabel('Probability Thresholds')\n",
        "plt.ylabel('F1-score')\n",
        "plt.title('Probability Thresholds vs F1-score')\n",
        "plt.legend()\n",
        "plt.grid()\n",
        "plt.show()"
      ],
      "metadata": {
        "colab": {
          "base_uri": "https://localhost:8080/",
          "height": 472
        },
        "id": "aaRbjrrRH938",
        "outputId": "bca8070b-de9a-4589-badf-946483aced8a"
      },
      "execution_count": 54,
      "outputs": [
        {
          "output_type": "display_data",
          "data": {
            "text/plain": [
              "<Figure size 640x480 with 1 Axes>"
            ],
            "image/png": "[encoded data removed]"
          },
          "metadata": {}
        }
      ]
    },
    {
      "cell_type": "code",
      "execution_count": 165,
      "metadata": {
        "id": "jy_ofzUuGWeQ"
      },
      "outputs": [],
      "source": [
        "prediction_label = []\n",
        "for i in range(len(y_pred)):\n",
        "    if y_pred[i][0] >= 0.5:\n",
        "        prediction_label.append('flip')\n",
        "    else:\n",
        "        prediction_label.append('notflip')"
      ]
    },
    {
      "cell_type": "code",
      "source": [
        "print(test_set.class_indices)"
      ],
      "metadata": {
        "colab": {
          "base_uri": "https://localhost:8080/"
        },
        "id": "Bsxq2o02aGTb",
        "outputId": "c252fa51-39ee-4dbd-cbf4-a13d78986cf2"
      },
      "execution_count": 166,
      "outputs": [
        {
          "output_type": "stream",
          "name": "stdout",
          "text": [
            "{'flip': 0, 'notflip': 1}\n"
          ]
        }
      ]
    },
    {
      "cell_type": "code",
      "source": [
        "prediction_label = pd.DataFrame(prediction_label)"
      ],
      "metadata": {
        "id": "hX1yMspMd9tC"
      },
      "execution_count": 167,
      "outputs": []
    },
    {
      "cell_type": "code",
      "execution_count": 168,
      "metadata": {
        "id": "cdSbVKsyGWeR",
        "outputId": "bddc3232-a3f7-426d-8622-0d180d19ff3d",
        "colab": {
          "base_uri": "https://localhost:8080/"
        }
      },
      "outputs": [
        {
          "output_type": "stream",
          "name": "stdout",
          "text": [
            "           0\n",
            "0    notflip\n",
            "1    notflip\n",
            "2    notflip\n",
            "3    notflip\n",
            "4    notflip\n",
            "..       ...\n",
            "592     flip\n",
            "593     flip\n",
            "594     flip\n",
            "595     flip\n",
            "596     flip\n",
            "\n",
            "[597 rows x 1 columns]\n"
          ]
        }
      ],
      "source": [
        "print(prediction_label)"
      ]
    },
    {
      "cell_type": "code",
      "source": [
        "prediction_label = prediction_label.applymap(lambda x:1 if x == 'notflip' else 0)"
      ],
      "metadata": {
        "id": "JeEqHHMleens"
      },
      "execution_count": 169,
      "outputs": []
    },
    {
      "cell_type": "code",
      "source": [
        "prediction_label.value_counts()"
      ],
      "metadata": {
        "colab": {
          "base_uri": "https://localhost:8080/"
        },
        "id": "Pbtk2GbcfE91",
        "outputId": "22a686a8-1bf8-4ec1-91cd-fea7d2eb03ff"
      },
      "execution_count": 175,
      "outputs": [
        {
          "output_type": "execute_result",
          "data": {
            "text/plain": [
              "0    318\n",
              "1    279\n",
              "dtype: int64"
            ]
          },
          "metadata": {},
          "execution_count": 175
        }
      ]
    },
    {
      "cell_type": "code",
      "execution_count": 51,
      "metadata": {
        "id": "SXDs_CCLGWeR",
        "outputId": "46e217ad-f49d-418e-88fa-f34fa8289527",
        "colab": {
          "base_uri": "https://localhost:8080/"
        }
      },
      "outputs": [
        {
          "output_type": "stream",
          "name": "stdout",
          "text": [
            "F1 score: [0.6792035398230089, 0.9331306990881459, 0.9504643962848297, 0.9623824451410659, 0.9638932496075354, 0.9654088050314467, 0.9698890649762282, 0.9714285714285715, 0.9760765550239235, 0.9776357827476039, 0.9792, 0.9791332263242376, 0.9838709677419355, 0.9838709677419355, 0.9822294022617124, 0.9804560260586319, 0.9787928221859705, 0.9752883031301481, 0.9718076285240465, 0.9523809523809524, 0.0]\n"
          ]
        }
      ],
      "source": [
        "# Print the F1 score\n",
        "print(\"F1 score:\", f1)"
      ]
    },
    {
      "cell_type": "code",
      "source": [
        "F1_SCORE =np.max(f1, axis=0)\n",
        "print(F1_SCORE)"
      ],
      "metadata": {
        "colab": {
          "base_uri": "https://localhost:8080/"
        },
        "id": "ObvFKc2qMJhH",
        "outputId": "55f2f49c-c8a9-4488-fe83-d95ec2b2b4e7"
      },
      "execution_count": 70,
      "outputs": [
        {
          "output_type": "stream",
          "name": "stdout",
          "text": [
            "0.9838709677419355\n"
          ]
        }
      ]
    },
    {
      "cell_type": "code",
      "source": [
        "prediction_label.shape\n",
        "# test_set.classes.shape"
      ],
      "metadata": {
        "colab": {
          "base_uri": "https://localhost:8080/"
        },
        "id": "-N8lxLAjNqmm",
        "outputId": "231b8879-bf2d-46b0-977a-a8d159a9e6fa"
      },
      "execution_count": 179,
      "outputs": [
        {
          "output_type": "execute_result",
          "data": {
            "text/plain": [
              "(597, 1)"
            ]
          },
          "metadata": {},
          "execution_count": 179
        }
      ]
    },
    {
      "cell_type": "code",
      "source": [
        "print(\"F1 score:\", f1_score(test_set.classes, prediction_label))"
      ],
      "metadata": {
        "colab": {
          "base_uri": "https://localhost:8080/"
        },
        "id": "FYDAD5uflb_v",
        "outputId": "6866f199-a6bf-4f24-fdc6-a5f7afcb0276"
      },
      "execution_count": 178,
      "outputs": [
        {
          "output_type": "stream",
          "name": "stdout",
          "text": [
            "F1 score: 0.00341296928327645\n"
          ]
        }
      ]
    },
    {
      "cell_type": "code",
      "source": [
        "from sklearn.metrics import classification_report\n",
        "\n",
        "print(classification_report(test_set.classes, prediction_label))"
      ],
      "metadata": {
        "colab": {
          "base_uri": "https://localhost:8080/"
        },
        "id": "j7OLe25hMpQO",
        "outputId": "e01ae91e-a47f-4c9a-9982-f966706a19da"
      },
      "execution_count": 176,
      "outputs": [
        {
          "output_type": "stream",
          "name": "stdout",
          "text": [
            "              precision    recall  f1-score   support\n",
            "\n",
            "           0       0.04      0.04      0.04       290\n",
            "           1       0.00      0.00      0.00       307\n",
            "\n",
            "    accuracy                           0.02       597\n",
            "   macro avg       0.02      0.02      0.02       597\n",
            "weighted avg       0.02      0.02      0.02       597\n",
            "\n"
          ]
        }
      ]
    },
    {
      "cell_type": "code",
      "execution_count": 132,
      "metadata": {
        "id": "D25VYtRrGWeR",
        "colab": {
          "base_uri": "https://localhost:8080/",
          "height": 443
        },
        "outputId": "c45ec144-d66c-42fd-b73e-a98472d03ee1"
      },
      "outputs": [
        {
          "output_type": "stream",
          "name": "stdout",
          "text": [
            "<keras.preprocessing.image.DirectoryIterator object at 0x7b58f55b49d0>\n"
          ]
        },
        {
          "output_type": "error",
          "ename": "TypeError",
          "evalue": "ignored",
          "traceback": [
            "\u001b[0;31m---------------------------------------------------------------------------\u001b[0m",
            "\u001b[0;31mTypeError\u001b[0m                                 Traceback (most recent call last)",
            "\u001b[0;32m<ipython-input-132-4c660cd63718>\u001b[0m in \u001b[0;36m<cell line: 16>\u001b[0;34m()\u001b[0m\n\u001b[1;32m     14\u001b[0m \u001b[0mf1_scorer\u001b[0m \u001b[0;34m=\u001b[0m \u001b[0mmake_scorer\u001b[0m\u001b[0;34m(\u001b[0m\u001b[0mf1_score\u001b[0m\u001b[0;34m)\u001b[0m\u001b[0;34m\u001b[0m\u001b[0;34m\u001b[0m\u001b[0m\n\u001b[1;32m     15\u001b[0m \u001b[0mgrid\u001b[0m \u001b[0;34m=\u001b[0m \u001b[0mGridSearchCV\u001b[0m\u001b[0;34m(\u001b[0m\u001b[0mestimator\u001b[0m\u001b[0;34m=\u001b[0m\u001b[0mcnn\u001b[0m\u001b[0;34m,\u001b[0m \u001b[0mparam_grid\u001b[0m\u001b[0;34m=\u001b[0m\u001b[0mparam_grid\u001b[0m\u001b[0;34m,\u001b[0m \u001b[0mcv\u001b[0m\u001b[0;34m=\u001b[0m\u001b[0;36m3\u001b[0m\u001b[0;34m,\u001b[0m \u001b[0mscoring\u001b[0m\u001b[0;34m=\u001b[0m\u001b[0mf1_scorer\u001b[0m\u001b[0;34m)\u001b[0m\u001b[0;34m\u001b[0m\u001b[0;34m\u001b[0m\u001b[0m\n\u001b[0;32m---> 16\u001b[0;31m \u001b[0mgrid_result\u001b[0m \u001b[0;34m=\u001b[0m \u001b[0mgrid\u001b[0m\u001b[0;34m.\u001b[0m\u001b[0mfit\u001b[0m\u001b[0;34m(\u001b[0m\u001b[0mX\u001b[0m\u001b[0;34m=\u001b[0m\u001b[0mtraining_set\u001b[0m\u001b[0;34m.\u001b[0m\u001b[0mclass_indices\u001b[0m\u001b[0;34m,\u001b[0m \u001b[0my\u001b[0m\u001b[0;34m=\u001b[0m\u001b[0mtest_set\u001b[0m\u001b[0;34m.\u001b[0m\u001b[0mclass_indices\u001b[0m\u001b[0;34m)\u001b[0m\u001b[0;34m\u001b[0m\u001b[0;34m\u001b[0m\u001b[0m\n\u001b[0m\u001b[1;32m     17\u001b[0m \u001b[0;34m\u001b[0m\u001b[0m\n\u001b[1;32m     18\u001b[0m \u001b[0;31m# Step 4: Print the results\u001b[0m\u001b[0;34m\u001b[0m\u001b[0;34m\u001b[0m\u001b[0m\n",
            "\u001b[0;32m/usr/local/lib/python3.10/dist-packages/sklearn/model_selection/_search.py\u001b[0m in \u001b[0;36mfit\u001b[0;34m(self, X, y, groups, **fit_params)\u001b[0m\n\u001b[1;32m    786\u001b[0m         \u001b[0mn_splits\u001b[0m \u001b[0;34m=\u001b[0m \u001b[0mcv_orig\u001b[0m\u001b[0;34m.\u001b[0m\u001b[0mget_n_splits\u001b[0m\u001b[0;34m(\u001b[0m\u001b[0mX\u001b[0m\u001b[0;34m,\u001b[0m \u001b[0my\u001b[0m\u001b[0;34m,\u001b[0m \u001b[0mgroups\u001b[0m\u001b[0;34m)\u001b[0m\u001b[0;34m\u001b[0m\u001b[0;34m\u001b[0m\u001b[0m\n\u001b[1;32m    787\u001b[0m \u001b[0;34m\u001b[0m\u001b[0m\n\u001b[0;32m--> 788\u001b[0;31m         \u001b[0mbase_estimator\u001b[0m \u001b[0;34m=\u001b[0m \u001b[0mclone\u001b[0m\u001b[0;34m(\u001b[0m\u001b[0mself\u001b[0m\u001b[0;34m.\u001b[0m\u001b[0mestimator\u001b[0m\u001b[0;34m)\u001b[0m\u001b[0;34m\u001b[0m\u001b[0;34m\u001b[0m\u001b[0m\n\u001b[0m\u001b[1;32m    789\u001b[0m \u001b[0;34m\u001b[0m\u001b[0m\n\u001b[1;32m    790\u001b[0m         \u001b[0mparallel\u001b[0m \u001b[0;34m=\u001b[0m \u001b[0mParallel\u001b[0m\u001b[0;34m(\u001b[0m\u001b[0mn_jobs\u001b[0m\u001b[0;34m=\u001b[0m\u001b[0mself\u001b[0m\u001b[0;34m.\u001b[0m\u001b[0mn_jobs\u001b[0m\u001b[0;34m,\u001b[0m \u001b[0mpre_dispatch\u001b[0m\u001b[0;34m=\u001b[0m\u001b[0mself\u001b[0m\u001b[0;34m.\u001b[0m\u001b[0mpre_dispatch\u001b[0m\u001b[0;34m)\u001b[0m\u001b[0;34m\u001b[0m\u001b[0;34m\u001b[0m\u001b[0m\n",
            "\u001b[0;32m/usr/local/lib/python3.10/dist-packages/sklearn/base.py\u001b[0m in \u001b[0;36mclone\u001b[0;34m(estimator, safe)\u001b[0m\n\u001b[1;32m     77\u001b[0m                 )\n\u001b[1;32m     78\u001b[0m             \u001b[0;32melse\u001b[0m\u001b[0;34m:\u001b[0m\u001b[0;34m\u001b[0m\u001b[0;34m\u001b[0m\u001b[0m\n\u001b[0;32m---> 79\u001b[0;31m                 raise TypeError(\n\u001b[0m\u001b[1;32m     80\u001b[0m                     \u001b[0;34m\"Cannot clone object '%s' (type %s): \"\u001b[0m\u001b[0;34m\u001b[0m\u001b[0;34m\u001b[0m\u001b[0m\n\u001b[1;32m     81\u001b[0m                     \u001b[0;34m\"it does not seem to be a scikit-learn \"\u001b[0m\u001b[0;34m\u001b[0m\u001b[0;34m\u001b[0m\u001b[0m\n",
            "\u001b[0;31mTypeError\u001b[0m: Cannot clone object '<keras.engine.sequential.Sequential object at 0x7b58f63c7100>' (type <class 'keras.engine.sequential.Sequential'>): it does not seem to be a scikit-learn estimator as it does not implement a 'get_params' method."
          ]
        }
      ],
      "source": [
        "param_grid = {\n",
        "    'filters': [16, 32, 64],\n",
        "    'kernel_size': [(3, 3), (5, 5)],\n",
        "    'pool_size': [(2, 2), (3, 3)],\n",
        "    'dense_units': [64, 128, 256],\n",
        "    'dropout_rate': [0.2, 0.3, 0.4],\n",
        "    'batch_size': [32, 64],\n",
        "    'epochs': [10, 20]\n",
        "}\n",
        "\n",
        "print(training_set)\n",
        "\n",
        "# Perform grid search cross-validation\n",
        "f1_scorer = make_scorer(f1_score)\n",
        "grid = GridSearchCV(estimator=cnn, param_grid=param_grid, cv=3, scoring=f1_scorer)\n",
        "grid_result = grid.fit(X=training_set.classes, prediction_labels)\n",
        "\n",
        "# Step 4: Print the results\n",
        "print(\"Best F1 score: %f using %s\" % (grid_result.best_score_, grid_result.best_params_))\n",
        "means = grid_result.cv_results_['mean_test_score']\n",
        "stds = grid_result.cv_results_['std_test_score']\n",
        "params = grid_result.cv_results_['params']\n",
        "for mean, std, param in zip(means, stds, params):\n",
        "    print(\"%f (%f) with: %r\" % (mean, std, param))"
      ]
    },
    {
      "cell_type": "code",
      "execution_count": null,
      "metadata": {
        "id": "9iUfkRunGWeS"
      },
      "outputs": [],
      "source": [
        "clf = KerasClassifier(cnn, loss=\"categorical_crossentropy\", batch_size=32,\n",
        "    optimizer='Adam', metrics={'BinaryAccuracy','FalseNegatives'}, validation_split=20.0, epochs=20, class_weight=8)"
      ]
    },
    {
      "cell_type": "code",
      "execution_count": null,
      "metadata": {
        "id": "MEKto78MGWeS"
      },
      "outputs": [],
      "source": [
        "clf.fit(training_set, test_set, epochs=20, batch=32, n_jobs=-1)"
      ]
    },
    {
      "cell_type": "code",
      "execution_count": null,
      "metadata": {
        "id": "MGPzEa7eGWeS"
      },
      "outputs": [],
      "source": [
        "result_c = clf.predict(input_array)\n",
        "print(result_c)\n",
        "training_set.class_indices\n",
        "if result[0][0] >= 0.731:\n",
        "  predictions = 'Flip'\n",
        "else:\n",
        "  predictions = 'NotFlip'\n",
        "\n",
        "print(predictions)"
      ]
    }
  ],
  "metadata": {
    "colab": {
      "provenance": [],
      "gpuType": "T4",
      "include_colab_link": true
    },
    "kernelspec": {
      "display_name": "Python 3",
      "name": "python3"
    },
    "language_info": {
      "codemirror_mode": {
        "name": "ipython",
        "version": 3
      },
      "file_extension": ".py",
      "mimetype": "text/x-python",
      "name": "python",
      "nbconvert_exporter": "python",
      "pygments_lexer": "ipython3",
      "version": "3.11.4"
    },
    "accelerator": "GPU"
  },
  "nbformat": 4,
  "nbformat_minor": 0
}