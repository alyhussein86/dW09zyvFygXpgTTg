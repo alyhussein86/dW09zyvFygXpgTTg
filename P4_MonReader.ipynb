{
  "cells": [
    {
      "cell_type": "markdown",
      "metadata": {
        "id": "view-in-github",
        "colab_type": "text"
      },
      "source": [
        "<a href=\"https://colab.research.google.com/github/alyhussein86/dW09zyvFygXpgTTg/blob/main/P4_MonReader.ipynb\" target=\"_parent\"><img src=\"https://colab.research.google.com/assets/colab-badge.svg\" alt=\"Open In Colab\"/></a>"
      ]
    },
    {
      "cell_type": "markdown",
      "metadata": {
        "id": "3DR-eO17geWu"
      },
      "source": [
        "# Convolutional Neural Network"
      ]
    },
    {
      "cell_type": "markdown",
      "metadata": {
        "id": "EMefrVPCg-60"
      },
      "source": [
        "### Importing the libraries"
      ]
    },
    {
      "cell_type": "code",
      "source": [
        "from google.colab import drive\n",
        "drive.mount('/content/drive')"
      ],
      "metadata": {
        "colab": {
          "base_uri": "https://localhost:8080/"
        },
        "id": "zWZ1r9JqGzyF",
        "outputId": "e10e7e70-66d6-4a93-d30f-ef4bf5262de3"
      },
      "execution_count": 1,
      "outputs": [
        {
          "output_type": "stream",
          "name": "stdout",
          "text": [
            "Mounted at /content/drive\n"
          ]
        }
      ]
    },
    {
      "cell_type": "code",
      "source": [
        "pip install scikeras"
      ],
      "metadata": {
        "colab": {
          "base_uri": "https://localhost:8080/"
        },
        "id": "IUtQT_1QeNmy",
        "outputId": "a3b87aca-635f-4195-c769-59abe61250e5"
      },
      "execution_count": 2,
      "outputs": [
        {
          "output_type": "stream",
          "name": "stdout",
          "text": [
            "Collecting scikeras\n",
            "  Downloading scikeras-0.11.0-py3-none-any.whl (27 kB)\n",
            "Requirement already satisfied: packaging>=0.21 in /usr/local/lib/python3.10/dist-packages (from scikeras) (23.1)\n",
            "Requirement already satisfied: scikit-learn>=1.0.0 in /usr/local/lib/python3.10/dist-packages (from scikeras) (1.2.2)\n",
            "Requirement already satisfied: numpy>=1.17.3 in /usr/local/lib/python3.10/dist-packages (from scikit-learn>=1.0.0->scikeras) (1.22.4)\n",
            "Requirement already satisfied: scipy>=1.3.2 in /usr/local/lib/python3.10/dist-packages (from scikit-learn>=1.0.0->scikeras) (1.10.1)\n",
            "Requirement already satisfied: joblib>=1.1.1 in /usr/local/lib/python3.10/dist-packages (from scikit-learn>=1.0.0->scikeras) (1.3.1)\n",
            "Requirement already satisfied: threadpoolctl>=2.0.0 in /usr/local/lib/python3.10/dist-packages (from scikit-learn>=1.0.0->scikeras) (3.2.0)\n",
            "Installing collected packages: scikeras\n",
            "Successfully installed scikeras-0.11.0\n"
          ]
        }
      ]
    },
    {
      "cell_type": "code",
      "execution_count": 3,
      "metadata": {
        "id": "sCV30xyVhFbE"
      },
      "outputs": [],
      "source": [
        "import tensorflow as tf\n",
        "from PIL import Image\n",
        "from keras.preprocessing.image import ImageDataGenerator\n",
        "import numpy as np\n",
        "import matplotlib.pyplot as plt\n",
        "from sklearn.metrics import f1_score, make_scorer, confusion_matrix, classification_report\n",
        "from sklearn.model_selection import GridSearchCV\n",
        "from scikeras.wrappers import KerasClassifier\n",
        "import pandas as pd"
      ]
    },
    {
      "cell_type": "code",
      "execution_count": 4,
      "metadata": {
        "colab": {
          "base_uri": "https://localhost:8080/",
          "height": 35
        },
        "id": "R9Qb5CnIGWeC",
        "outputId": "e3df927d-265b-471b-8a3e-073e686df06c"
      },
      "outputs": [
        {
          "output_type": "execute_result",
          "data": {
            "text/plain": [
              "'2.12.0'"
            ],
            "application/vnd.google.colaboratory.intrinsic+json": {
              "type": "string"
            }
          },
          "metadata": {},
          "execution_count": 4
        }
      ],
      "source": [
        "tf.__version__"
      ]
    },
    {
      "cell_type": "code",
      "source": [
        "import tensorflow as tf\n",
        "device_name = tf.test.gpu_device_name()\n",
        "if device_name != '/device:GPU:0':\n",
        "  raise SystemError('GPU device not found')\n",
        "print('Found GPU at: {}'.format(device_name))\n"
      ],
      "metadata": {
        "colab": {
          "base_uri": "https://localhost:8080/"
        },
        "id": "a3GXnR1UdJ5z",
        "outputId": "d9648d23-3d2d-4148-bfb4-4928dc7e8580"
      },
      "execution_count": 5,
      "outputs": [
        {
          "output_type": "stream",
          "name": "stdout",
          "text": [
            "Found GPU at: /device:GPU:0\n"
          ]
        }
      ]
    },
    {
      "cell_type": "markdown",
      "metadata": {
        "id": "oxQxCBWyoGPE"
      },
      "source": [
        "## Part 1 - Data Preprocessing"
      ]
    },
    {
      "cell_type": "markdown",
      "metadata": {
        "id": "MvE-heJNo3GG"
      },
      "source": [
        "### Preprocessing the Training set"
      ]
    },
    {
      "cell_type": "code",
      "execution_count": 6,
      "metadata": {
        "colab": {
          "base_uri": "https://localhost:8080/"
        },
        "id": "0koUcJMJpEBD",
        "outputId": "c0c732d0-4cbf-4a06-a10d-17e8ee88c371"
      },
      "outputs": [
        {
          "output_type": "stream",
          "name": "stdout",
          "text": [
            "Found 2392 images belonging to 2 classes.\n"
          ]
        }
      ],
      "source": [
        "train_datagen = ImageDataGenerator(rescale = 1./255,\n",
        "                                   shear_range = 0.2,\n",
        "                                   zoom_range = 0.2,\n",
        "                                   horizontal_flip = True,\n",
        "                                   fill_mode=\"nearest\")\n",
        "training_set = train_datagen.flow_from_directory('/content/drive/MyDrive/images/training/',\n",
        "                                                 target_size = (100, 100),\n",
        "                                                 batch_size = 64,\n",
        "                                                 class_mode = 'binary'\n",
        "                                                 )"
      ]
    },
    {
      "cell_type": "markdown",
      "metadata": {
        "id": "mrCMmGw9pHys"
      },
      "source": [
        "### Preprocessing the Test set"
      ]
    },
    {
      "cell_type": "code",
      "execution_count": 7,
      "metadata": {
        "colab": {
          "base_uri": "https://localhost:8080/"
        },
        "id": "SH4WzfOhpKc3",
        "outputId": "aa9d61d5-177d-49be-be70-b3a5c2098169"
      },
      "outputs": [
        {
          "output_type": "stream",
          "name": "stdout",
          "text": [
            "Found 597 images belonging to 2 classes.\n"
          ]
        }
      ],
      "source": [
        "test_datagen = ImageDataGenerator(rescale = 1./255,\n",
        "                                   shear_range = 0.2,\n",
        "                                   zoom_range = 0.2,\n",
        "                                   horizontal_flip = True,\n",
        "                                  fill_mode=\"nearest\")\n",
        "test_set = test_datagen.flow_from_directory('/content/drive/MyDrive/images/testing/',\n",
        "                                            target_size = (100, 100),\n",
        "                                            batch_size = 32,\n",
        "                                            class_mode = 'binary',\n",
        "                                            shuffle = False)"
      ]
    },
    {
      "cell_type": "code",
      "execution_count": 8,
      "metadata": {
        "colab": {
          "base_uri": "https://localhost:8080/"
        },
        "id": "QBJj5qmmGWeE",
        "outputId": "37f514c4-3511-42ad-8c2e-07c21ea26b5f"
      },
      "outputs": [
        {
          "output_type": "stream",
          "name": "stdout",
          "text": [
            "{'flip': 0, 'notflip': 1}\n",
            "{'flip': 0, 'notflip': 1}\n"
          ]
        }
      ],
      "source": [
        "class_name_train = training_set.class_indices\n",
        "print(class_name_train)\n",
        "class_name_test = test_set.class_indices\n",
        "print(class_name_test)"
      ]
    },
    {
      "cell_type": "code",
      "execution_count": 9,
      "metadata": {
        "colab": {
          "base_uri": "https://localhost:8080/"
        },
        "id": "jIvF8l_-GWeE",
        "outputId": "044d241b-3bd9-4691-eda7-c39c018dfff8"
      },
      "outputs": [
        {
          "output_type": "stream",
          "name": "stdout",
          "text": [
            "(64, 100, 100, 3)\n",
            "(64,)\n"
          ]
        }
      ],
      "source": [
        "for image_batch, labels_batch in training_set:\n",
        "  print(image_batch.shape)\n",
        "  print(labels_batch.shape)\n",
        "  break"
      ]
    },
    {
      "cell_type": "code",
      "source": [
        "print(class_name_test.values())"
      ],
      "metadata": {
        "colab": {
          "base_uri": "https://localhost:8080/"
        },
        "id": "fUudOqe2dlru",
        "outputId": "dc0e70a8-19f0-4673-eca4-8b8ee3520ae1"
      },
      "execution_count": 10,
      "outputs": [
        {
          "output_type": "stream",
          "name": "stdout",
          "text": [
            "dict_values([0, 1])\n"
          ]
        }
      ]
    },
    {
      "cell_type": "markdown",
      "metadata": {
        "id": "af8O4l90gk7B"
      },
      "source": [
        "## Part 2 - Building the CNN"
      ]
    },
    {
      "cell_type": "markdown",
      "metadata": {
        "id": "ces1gXY2lmoX"
      },
      "source": [
        "### Initialising the CNN"
      ]
    },
    {
      "cell_type": "code",
      "source": [
        "cnn = tf.keras.models.Sequential()\n"
      ],
      "metadata": {
        "id": "DnapjA8bDSmU"
      },
      "execution_count": 11,
      "outputs": []
    },
    {
      "cell_type": "code",
      "execution_count": 12,
      "metadata": {
        "id": "QNXznwOcGWeG",
        "outputId": "c2674266-e522-4a7f-a50b-8dca1a855adf",
        "colab": {
          "base_uri": "https://localhost:8080/",
          "height": 35
        }
      },
      "outputs": [
        {
          "output_type": "execute_result",
          "data": {
            "text/plain": [
              "'float32'"
            ],
            "application/vnd.google.colaboratory.intrinsic+json": {
              "type": "string"
            }
          },
          "metadata": {},
          "execution_count": 12
        }
      ],
      "source": [
        "cnn.dtype"
      ]
    },
    {
      "cell_type": "markdown",
      "metadata": {
        "id": "u5YJj_XMl5LF"
      },
      "source": [
        "### Step 1 - Convolution"
      ]
    },
    {
      "cell_type": "code",
      "source": [
        "cnn.add(tf.keras.layers.Conv2D(filters=32, kernel_size=4, activation='relu', input_shape=[100, 100, 3]))\n"
      ],
      "metadata": {
        "id": "dtzn7qApDb4p"
      },
      "execution_count": 13,
      "outputs": []
    },
    {
      "cell_type": "markdown",
      "metadata": {
        "id": "tf87FpvxmNOJ"
      },
      "source": [
        "### Step 2 - Pooling"
      ]
    },
    {
      "cell_type": "markdown",
      "metadata": {
        "id": "xaTOgD8rm4mU"
      },
      "source": [
        "### Adding a second convolutional layer"
      ]
    },
    {
      "cell_type": "code",
      "source": [
        "cnn.add(tf.keras.layers.Conv2D(32, (3,3), activation='relu', input_shape=(100,100,3)))\n",
        "cnn.add(tf.keras.layers.MaxPool2D((3,3)))\n",
        "cnn.add(tf.keras.layers.Conv2D(64, (3,3), activation='relu'))\n",
        "cnn.add(tf.keras.layers.MaxPool2D((3,3)))\n",
        "cnn.add(tf.keras.layers.Conv2D(128, (3,3), activation='relu'))\n",
        "cnn.add(tf.keras.layers.MaxPool2D((3,3)))"
      ],
      "metadata": {
        "id": "rbdKvCKeDu1p"
      },
      "execution_count": 14,
      "outputs": []
    },
    {
      "cell_type": "markdown",
      "metadata": {
        "id": "tmiEuvTunKfk"
      },
      "source": [
        "### Step 3 - Flattening"
      ]
    },
    {
      "cell_type": "code",
      "execution_count": 15,
      "metadata": {
        "id": "6AZeOGCvnNZn"
      },
      "outputs": [],
      "source": [
        "cnn.add(tf.keras.layers.Flatten())"
      ]
    },
    {
      "cell_type": "markdown",
      "metadata": {
        "id": "dAoSECOm203v"
      },
      "source": [
        "### Step 4 - Full Connection"
      ]
    },
    {
      "cell_type": "code",
      "execution_count": 16,
      "metadata": {
        "id": "8GtmUlLd26Nq"
      },
      "outputs": [],
      "source": [
        "cnn.add(tf.keras.layers.Dense(units=256, activation='relu'))"
      ]
    },
    {
      "cell_type": "markdown",
      "metadata": {
        "id": "yTldFvbX28Na"
      },
      "source": [
        "### Step 5 - Output Layer"
      ]
    },
    {
      "cell_type": "code",
      "execution_count": 17,
      "metadata": {
        "id": "1p_Zj1Mc3Ko_"
      },
      "outputs": [],
      "source": [
        "cnn.add(tf.keras.layers.Dense(units=1, activation='sigmoid'))"
      ]
    },
    {
      "cell_type": "code",
      "execution_count": 18,
      "metadata": {
        "id": "Ccp6HpcmGWeL",
        "outputId": "297dec3f-395e-48f2-eee6-3c5bcf1215ca",
        "colab": {
          "base_uri": "https://localhost:8080/"
        }
      },
      "outputs": [
        {
          "output_type": "stream",
          "name": "stdout",
          "text": [
            "Model: \"sequential\"\n",
            "_________________________________________________________________\n",
            " Layer (type)                Output Shape              Param #   \n",
            "=================================================================\n",
            " conv2d (Conv2D)             (None, 97, 97, 32)        1568      \n",
            "                                                                 \n",
            " conv2d_1 (Conv2D)           (None, 95, 95, 32)        9248      \n",
            "                                                                 \n",
            " max_pooling2d (MaxPooling2D  (None, 31, 31, 32)       0         \n",
            " )                                                               \n",
            "                                                                 \n",
            " conv2d_2 (Conv2D)           (None, 29, 29, 64)        18496     \n",
            "                                                                 \n",
            " max_pooling2d_1 (MaxPooling  (None, 9, 9, 64)         0         \n",
            " 2D)                                                             \n",
            "                                                                 \n",
            " conv2d_3 (Conv2D)           (None, 7, 7, 128)         73856     \n",
            "                                                                 \n",
            " max_pooling2d_2 (MaxPooling  (None, 2, 2, 128)        0         \n",
            " 2D)                                                             \n",
            "                                                                 \n",
            " flatten (Flatten)           (None, 512)               0         \n",
            "                                                                 \n",
            " dense (Dense)               (None, 256)               131328    \n",
            "                                                                 \n",
            " dense_1 (Dense)             (None, 1)                 257       \n",
            "                                                                 \n",
            "=================================================================\n",
            "Total params: 234,753\n",
            "Trainable params: 234,753\n",
            "Non-trainable params: 0\n",
            "_________________________________________________________________\n"
          ]
        }
      ],
      "source": [
        "cnn.summary()"
      ]
    },
    {
      "cell_type": "markdown",
      "metadata": {
        "id": "D6XkI90snSDl"
      },
      "source": [
        "## Part 3 - Training the CNN"
      ]
    },
    {
      "cell_type": "markdown",
      "metadata": {
        "id": "vfrFQACEnc6i"
      },
      "source": [
        "### Compiling the CNN"
      ]
    },
    {
      "cell_type": "code",
      "execution_count": 19,
      "metadata": {
        "id": "NALksrNQpUlJ"
      },
      "outputs": [],
      "source": [
        "cnn.compile(optimizer=tf.keras.optimizers.Adam(learning_rate=1e-3),\n",
        "              loss=tf.keras.losses.binary_crossentropy,\n",
        "              metrics=[tf.keras.metrics.BinaryAccuracy()])\n",
        "              # ,tf.keras.metrics.FalseNegatives()])"
      ]
    },
    {
      "cell_type": "code",
      "execution_count": 20,
      "metadata": {
        "id": "gOe4iGJJGWeN",
        "outputId": "46f94c1f-3853-41cc-9ea2-9a9e511aea08",
        "colab": {
          "base_uri": "https://localhost:8080/"
        }
      },
      "outputs": [
        {
          "output_type": "stream",
          "name": "stdout",
          "text": [
            "(None, 1)\n"
          ]
        }
      ],
      "source": [
        "print(cnn.output_shape)"
      ]
    },
    {
      "cell_type": "code",
      "execution_count": 21,
      "metadata": {
        "id": "UEGa79eqGWeN",
        "outputId": "288d6883-fb7a-442e-8499-d522489e53ee",
        "colab": {
          "base_uri": "https://localhost:8080/"
        }
      },
      "outputs": [
        {
          "output_type": "stream",
          "name": "stdout",
          "text": [
            "(None, 100, 100, 3)\n"
          ]
        }
      ],
      "source": [
        "print(cnn.input_shape)"
      ]
    },
    {
      "cell_type": "markdown",
      "metadata": {
        "id": "ehS-v3MIpX2h"
      },
      "source": [
        "### Training the CNN on the Training set and evaluating it on the Test set"
      ]
    },
    {
      "cell_type": "code",
      "execution_count": 22,
      "metadata": {
        "id": "XUj1W4PJptta",
        "outputId": "9d8e5afe-e12d-40b8-a90e-e8cd8585ea25",
        "colab": {
          "base_uri": "https://localhost:8080/"
        }
      },
      "outputs": [
        {
          "output_type": "stream",
          "name": "stdout",
          "text": [
            "Epoch 1/25\n",
            "38/38 [==============================] - 867s 23s/step - loss: 0.6940 - binary_accuracy: 0.5100 - val_loss: 0.6912 - val_binary_accuracy: 0.4657\n",
            "Epoch 2/25\n",
            "38/38 [==============================] - 44s 1s/step - loss: 0.6763 - binary_accuracy: 0.5581 - val_loss: 0.6386 - val_binary_accuracy: 0.6449\n",
            "Epoch 3/25\n",
            "38/38 [==============================] - 46s 1s/step - loss: 0.5793 - binary_accuracy: 0.7186 - val_loss: 0.5082 - val_binary_accuracy: 0.7571\n",
            "Epoch 4/25\n",
            "38/38 [==============================] - 45s 1s/step - loss: 0.5382 - binary_accuracy: 0.7212 - val_loss: 0.5485 - val_binary_accuracy: 0.7320\n",
            "Epoch 5/25\n",
            "38/38 [==============================] - 44s 1s/step - loss: 0.4958 - binary_accuracy: 0.7692 - val_loss: 0.4403 - val_binary_accuracy: 0.7940\n",
            "Epoch 6/25\n",
            "38/38 [==============================] - 44s 1s/step - loss: 0.4029 - binary_accuracy: 0.8282 - val_loss: 0.4937 - val_binary_accuracy: 0.7605\n",
            "Epoch 7/25\n",
            "38/38 [==============================] - 48s 1s/step - loss: 0.3421 - binary_accuracy: 0.8620 - val_loss: 0.2776 - val_binary_accuracy: 0.8911\n",
            "Epoch 8/25\n",
            "38/38 [==============================] - 46s 1s/step - loss: 0.3135 - binary_accuracy: 0.8717 - val_loss: 0.2462 - val_binary_accuracy: 0.9196\n",
            "Epoch 9/25\n",
            "38/38 [==============================] - 48s 1s/step - loss: 0.2515 - binary_accuracy: 0.9013 - val_loss: 0.2416 - val_binary_accuracy: 0.8978\n",
            "Epoch 10/25\n",
            "38/38 [==============================] - 47s 1s/step - loss: 0.2350 - binary_accuracy: 0.9030 - val_loss: 0.2852 - val_binary_accuracy: 0.8878\n",
            "Epoch 11/25\n",
            "38/38 [==============================] - 45s 1s/step - loss: 0.1936 - binary_accuracy: 0.9247 - val_loss: 0.1727 - val_binary_accuracy: 0.9347\n",
            "Epoch 12/25\n",
            "38/38 [==============================] - 44s 1s/step - loss: 0.1734 - binary_accuracy: 0.9314 - val_loss: 0.1509 - val_binary_accuracy: 0.9481\n",
            "Epoch 13/25\n",
            "38/38 [==============================] - 45s 1s/step - loss: 0.1559 - binary_accuracy: 0.9381 - val_loss: 0.1336 - val_binary_accuracy: 0.9514\n",
            "Epoch 14/25\n",
            "38/38 [==============================] - 44s 1s/step - loss: 0.1518 - binary_accuracy: 0.9406 - val_loss: 0.1653 - val_binary_accuracy: 0.9397\n",
            "Epoch 15/25\n",
            "38/38 [==============================] - 45s 1s/step - loss: 0.1595 - binary_accuracy: 0.9394 - val_loss: 0.1353 - val_binary_accuracy: 0.9531\n",
            "Epoch 16/25\n",
            "38/38 [==============================] - 43s 1s/step - loss: 0.1387 - binary_accuracy: 0.9448 - val_loss: 0.1459 - val_binary_accuracy: 0.9430\n",
            "Epoch 17/25\n",
            "38/38 [==============================] - 44s 1s/step - loss: 0.1123 - binary_accuracy: 0.9582 - val_loss: 0.1648 - val_binary_accuracy: 0.9397\n",
            "Epoch 18/25\n",
            "38/38 [==============================] - 45s 1s/step - loss: 0.1324 - binary_accuracy: 0.9503 - val_loss: 0.1410 - val_binary_accuracy: 0.9464\n",
            "Epoch 19/25\n",
            "38/38 [==============================] - 46s 1s/step - loss: 0.1067 - binary_accuracy: 0.9624 - val_loss: 0.1126 - val_binary_accuracy: 0.9581\n",
            "Epoch 20/25\n",
            "38/38 [==============================] - 44s 1s/step - loss: 0.1000 - binary_accuracy: 0.9603 - val_loss: 0.1027 - val_binary_accuracy: 0.9581\n",
            "Epoch 21/25\n",
            "38/38 [==============================] - 44s 1s/step - loss: 0.0979 - binary_accuracy: 0.9657 - val_loss: 0.1088 - val_binary_accuracy: 0.9581\n",
            "Epoch 22/25\n",
            "38/38 [==============================] - 43s 1s/step - loss: 0.0916 - binary_accuracy: 0.9632 - val_loss: 0.1054 - val_binary_accuracy: 0.9631\n",
            "Epoch 23/25\n",
            "38/38 [==============================] - 48s 1s/step - loss: 0.1098 - binary_accuracy: 0.9594 - val_loss: 0.0764 - val_binary_accuracy: 0.9665\n",
            "Epoch 24/25\n",
            "38/38 [==============================] - 44s 1s/step - loss: 0.0564 - binary_accuracy: 0.9820 - val_loss: 0.0688 - val_binary_accuracy: 0.9698\n",
            "Epoch 25/25\n",
            "38/38 [==============================] - 45s 1s/step - loss: 0.0623 - binary_accuracy: 0.9774 - val_loss: 0.0808 - val_binary_accuracy: 0.9698\n"
          ]
        }
      ],
      "source": [
        "history = cnn.fit(x = training_set, validation_data = test_set, epochs = 25, batch_size= 25)"
      ]
    },
    {
      "cell_type": "code",
      "execution_count": 23,
      "metadata": {
        "id": "N2g76tSYGWeO",
        "colab": {
          "base_uri": "https://localhost:8080/",
          "height": 699
        },
        "outputId": "d60c78b8-df94-480f-f759-2576d56da854"
      },
      "outputs": [
        {
          "output_type": "display_data",
          "data": {
            "text/plain": [
              "<Figure size 800x800 with 2 Axes>"
            ],
            "image/png": "[encoded data removed]"
          },
          "metadata": {}
        }
      ],
      "source": [
        "acc = history.history['binary_accuracy']\n",
        "val_acc = history.history['val_binary_accuracy']\n",
        "\n",
        "loss = history.history['loss']\n",
        "val_loss = history.history['val_loss']\n",
        "\n",
        "epochs_range = range(25)\n",
        "\n",
        "plt.figure(figsize=(8, 8))\n",
        "plt.subplot(1, 2, 1)\n",
        "plt.plot(epochs_range, acc, label='Training Accuracy')\n",
        "plt.plot(epochs_range, val_acc, label='Validation Accuracy')\n",
        "plt.legend(loc='lower right')\n",
        "plt.title('Training and Validation Accuracy')\n",
        "\n",
        "plt.subplot(1, 2, 2)\n",
        "plt.plot(epochs_range, loss, label='Training Loss')\n",
        "plt.plot(epochs_range, val_loss, label='Validation Loss')\n",
        "plt.legend(loc='upper right')\n",
        "plt.title('Training and Validation Loss')\n",
        "plt.show()"
      ]
    },
    {
      "cell_type": "markdown",
      "metadata": {
        "id": "U3PZasO0006Z"
      },
      "source": [
        "## Part 4 - Making a single prediction"
      ]
    },
    {
      "cell_type": "code",
      "execution_count": 24,
      "metadata": {
        "id": "gsSiWEJY1BPB",
        "colab": {
          "base_uri": "https://localhost:8080/"
        },
        "outputId": "3bc70527-d62d-42de-ff6f-a7dbcb70a74a"
      },
      "outputs": [
        {
          "output_type": "stream",
          "name": "stdout",
          "text": [
            "1/1 [==============================] - 0s 258ms/step\n",
            "[[0.9850949]]\n",
            "Flip\n"
          ]
        }
      ],
      "source": [
        "# test_image = Image.open('/content/drive/MyDrive/images/flip_or_noflip_1.jpg')\n",
        "test_image =  Image.open('/content/drive/MyDrive/images/flip_or_noflip_2.jpg')\n",
        "test_image = test_image.resize((100, 100))\n",
        "test_image = np.expand_dims(test_image, axis = 0)\n",
        "image_array = np.array(test_image)/255.0\n",
        "\n",
        "# Reshape the image array to match the input shape expected by the model\n",
        "# input_array = image_array.reshape(1, 100, 100, 3)  # Assuming a color image with shape (64, 64, 3)\n",
        "result_i = cnn.predict(image_array)\n",
        "print(result_i)\n",
        "training_set.class_indices\n",
        "if result_i[0][0] >= 0.5:\n",
        "  prediction = 'Flip'\n",
        "else:\n",
        "  prediction = 'NotFlip'\n",
        "\n",
        "print(prediction)"
      ]
    },
    {
      "cell_type": "code",
      "source": [
        "cnn.evaluate(test_set)"
      ],
      "metadata": {
        "id": "iY46Olt-wVMX",
        "colab": {
          "base_uri": "https://localhost:8080/"
        },
        "outputId": "6b3bd8ec-cb41-4057-d27c-a55f9380befa"
      },
      "execution_count": 25,
      "outputs": [
        {
          "output_type": "stream",
          "name": "stdout",
          "text": [
            "19/19 [==============================] - 9s 493ms/step - loss: 0.0724 - binary_accuracy: 0.9665\n"
          ]
        },
        {
          "output_type": "execute_result",
          "data": {
            "text/plain": [
              "[0.0724262222647667, 0.9664991497993469]"
            ]
          },
          "metadata": {},
          "execution_count": 25
        }
      ]
    },
    {
      "cell_type": "code",
      "source": [
        "y_pred = cnn.predict(test_set)"
      ],
      "metadata": {
        "id": "iLWIO8AYa8z1",
        "colab": {
          "base_uri": "https://localhost:8080/"
        },
        "outputId": "8c67cdf6-9f6b-4479-a722-c0969cb99139"
      },
      "execution_count": 26,
      "outputs": [
        {
          "output_type": "stream",
          "name": "stdout",
          "text": [
            "19/19 [==============================] - 9s 489ms/step\n"
          ]
        }
      ]
    },
    {
      "cell_type": "code",
      "source": [
        "thresholds = np.arange(21)*0.05\n",
        "f1 = []\n",
        "\n",
        "for thres in thresholds:\n",
        "    y_predics = np.where(y_pred > thres, 1, 0)\n",
        "    f1.append(f1_score(test_set.classes, y_predics))\n",
        "\n",
        "plt.figure()\n",
        "plt.plot(thresholds, f1, label='f1_score')\n",
        "plt.xlabel('Probability Thresholds')\n",
        "plt.ylabel('F1-score')\n",
        "plt.title('Probability Thresholds vs F1-score')\n",
        "plt.legend()\n",
        "plt.grid()\n",
        "plt.show()"
      ],
      "metadata": {
        "colab": {
          "base_uri": "https://localhost:8080/",
          "height": 472
        },
        "id": "aaRbjrrRH938",
        "outputId": "788098d2-fd01-47ff-cae4-51294b3b008c"
      },
      "execution_count": 27,
      "outputs": [
        {
          "output_type": "display_data",
          "data": {
            "text/plain": [
              "<Figure size 640x480 with 1 Axes>"
            ],
            "image/png": "[encoded data removed]"
          },
          "metadata": {}
        }
      ]
    },
    {
      "cell_type": "code",
      "source": [
        "y_pred.reshape((1,-1))"
      ],
      "metadata": {
        "colab": {
          "base_uri": "https://localhost:8080/"
        },
        "id": "ruauDMElehBE",
        "outputId": "fe2539df-948d-4a75-9213-721d65e503ee"
      },
      "execution_count": 43,
      "outputs": [
        {
          "output_type": "execute_result",
          "data": {
            "text/plain": [
              "array([[2.12049001e-09, 2.84453172e-08, 2.92975756e-07, 2.80812103e-13,\n",
              "        1.46938385e-06, 1.74709886e-01, 3.33783071e-04, 6.91525565e-05,\n",
              "        7.61401665e-04, 7.44915596e-05, 4.00745448e-05, 1.13422933e-08,\n",
              "        5.83998772e-05, 2.49045007e-02, 2.53581345e-01, 3.86333257e-11,\n",
              "        1.50817493e-06, 2.67203377e-05, 6.76402851e-05, 8.45688512e-04,\n",
              "        6.20197039e-04, 3.34492186e-04, 1.11727363e-11, 2.82222618e-06,\n",
              "        9.05772790e-09, 7.83833443e-08, 9.40260589e-01, 2.24303669e-08,\n",
              "        1.86059257e-08, 4.29778856e-06, 6.98721327e-04, 2.31026299e-03,\n",
              "        1.87443093e-05, 1.85995549e-02, 1.53824082e-03, 5.15250769e-03,\n",
              "        9.45757339e-09, 4.47476678e-09, 2.32992985e-04, 4.75787143e-09,\n",
              "        1.57126833e-05, 5.06011838e-06, 1.10578458e-06, 1.33324505e-07,\n",
              "        2.46186082e-05, 2.65011457e-09, 8.97608210e-10, 5.58819657e-09,\n",
              "        1.97914032e-05, 3.35807781e-05, 1.98689569e-03, 3.69567424e-04,\n",
              "        5.47307031e-03, 8.30950975e-01, 2.61910051e-01, 4.75614979e-06,\n",
              "        2.36747752e-07, 5.30805437e-07, 2.17423240e-05, 4.58412478e-06,\n",
              "        2.61443262e-07, 5.55689894e-06, 1.14816476e-05, 1.94347223e-08,\n",
              "        9.31951854e-06, 4.86390320e-07, 6.98619697e-05, 2.55405951e-07,\n",
              "        3.59430210e-08, 5.65842413e-07, 2.28059847e-08, 1.01715877e-05,\n",
              "        1.67841418e-03, 1.06147972e-07, 6.58128670e-07, 2.07541149e-08,\n",
              "        2.79265493e-07, 9.92078731e-06, 1.18460184e-05, 1.44331669e-03,\n",
              "        1.21963266e-02, 1.52802575e-04, 1.74635649e-01, 3.21046653e-04,\n",
              "        5.17823547e-02, 2.75514391e-03, 2.14933027e-02, 1.16519141e-03,\n",
              "        9.94701684e-03, 1.37019614e-02, 2.56995154e-05, 5.35545178e-06,\n",
              "        2.97473725e-05, 2.47625898e-09, 4.26155457e-04, 2.56073363e-05,\n",
              "        1.73538365e-06, 2.07166609e-04, 6.99840348e-06, 9.09954512e-09,\n",
              "        1.39075019e-05, 2.14573665e-04, 1.70539296e-03, 9.44497879e-06,\n",
              "        5.60388289e-05, 1.80163895e-09, 5.44113391e-07, 7.87001895e-08,\n",
              "        3.18585517e-04, 2.19846232e-04, 4.96661560e-05, 4.27587964e-02,\n",
              "        2.45442265e-04, 2.98465977e-07, 3.08328686e-06, 5.02934447e-04,\n",
              "        4.03592548e-10, 3.33298485e-05, 2.18358412e-01, 2.80347024e-07,\n",
              "        9.89439941e-05, 1.87227066e-04, 5.26008138e-04, 6.45898806e-04,\n",
              "        3.02401744e-02, 4.07620966e-02, 5.49617747e-04, 4.63050063e-04,\n",
              "        2.40671472e-03, 1.98673792e-02, 2.85912515e-03, 8.86870846e-02,\n",
              "        1.03551487e-03, 2.19158251e-02, 8.42995942e-03, 1.09466881e-01,\n",
              "        6.74213325e-08, 5.43928258e-02, 2.38706619e-02, 5.72761928e-04,\n",
              "        2.16090796e-03, 5.66491298e-03, 1.89361325e-03, 1.46276038e-03,\n",
              "        2.27396626e-07, 9.99485731e-01, 1.08108379e-01, 2.62051433e-01,\n",
              "        5.63437119e-04, 6.11526542e-04, 8.04320793e-04, 1.19739361e-02,\n",
              "        5.39263681e-07, 2.78075663e-06, 8.44837533e-11, 7.06730207e-05,\n",
              "        7.96133099e-05, 4.74958215e-03, 1.82342355e-03, 3.05091543e-03,\n",
              "        6.66385936e-03, 2.71850196e-03, 1.42634090e-04, 2.34405766e-03,\n",
              "        8.17877066e-04, 1.71520355e-06, 4.51961787e-05, 5.42292430e-04,\n",
              "        4.04849743e-05, 2.75628525e-03, 5.04387729e-03, 7.81735580e-04,\n",
              "        1.03374422e-02, 1.91042945e-03, 5.40239643e-03, 2.02870477e-04,\n",
              "        1.27811567e-04, 6.73912436e-05, 4.04375792e-03, 1.16542513e-02,\n",
              "        3.87580440e-05, 2.04741862e-03, 1.55921640e-07, 8.15152097e-03,\n",
              "        3.53469938e-01, 3.73773783e-01, 2.19201539e-02, 1.10749935e-03,\n",
              "        9.77242671e-05, 1.24905491e-04, 3.30810010e-01, 3.09038977e-03,\n",
              "        1.55722769e-03, 2.33150728e-04, 5.02392999e-04, 1.67689882e-02,\n",
              "        8.79522040e-02, 2.08202237e-03, 6.48327079e-03, 1.47330342e-02,\n",
              "        5.81868168e-04, 2.86265094e-06, 2.36099702e-03, 5.47609699e-04,\n",
              "        8.55487306e-04, 3.73546639e-03, 4.41861868e-01, 6.00807548e-01,\n",
              "        1.08705672e-06, 1.13581307e-02, 6.78875819e-02, 4.85992339e-03,\n",
              "        9.71717834e-01, 6.44649554e-05, 1.07438253e-04, 2.54943622e-09,\n",
              "        3.57918725e-05, 1.78832060e-03, 9.11033931e-06, 5.02934447e-04,\n",
              "        1.28716390e-04, 1.33240013e-03, 2.81301537e-03, 1.76408105e-02,\n",
              "        2.01616623e-03, 1.66596328e-05, 3.64726386e-03, 3.79258511e-03,\n",
              "        6.91105604e-01, 3.14748380e-04, 4.61952528e-04, 1.64776095e-04,\n",
              "        2.86093709e-04, 7.05755212e-07, 2.05005109e-02, 9.75596959e-06,\n",
              "        3.83456144e-03, 1.19365368e-05, 3.15144916e-07, 2.13727191e-07,\n",
              "        3.61403823e-03, 1.14024706e-05, 2.43618805e-02, 6.96164131e-01,\n",
              "        8.59568298e-01, 7.85178602e-01, 6.22734788e-08, 1.21395602e-10,\n",
              "        6.99137900e-07, 2.28532426e-05, 5.90214680e-04, 1.55216284e-08,\n",
              "        1.67886023e-13, 1.62235054e-03, 2.49591812e-01, 6.92945048e-02,\n",
              "        2.68250611e-02, 6.10119423e-06, 2.05723900e-05, 1.20783213e-03,\n",
              "        1.04704626e-01, 2.40987334e-02, 1.18455879e-04, 1.15006640e-06,\n",
              "        1.15958949e-06, 4.13209746e-05, 1.17587008e-01, 6.97567761e-02,\n",
              "        9.39135575e-12, 1.54821771e-06, 7.43957753e-06, 3.32774245e-03,\n",
              "        3.31693441e-01, 5.55374384e-01, 8.16666521e-04, 5.61344859e-06,\n",
              "        2.69522449e-08, 1.81516964e-06, 5.98979204e-05, 4.02136038e-06,\n",
              "        5.50432705e-05, 1.05863698e-07, 6.49382532e-01, 3.12408265e-05,\n",
              "        4.38758582e-01, 4.96692210e-02, 5.45471266e-05, 2.33831599e-07,\n",
              "        2.24337828e-06, 1.20647610e-05, 9.99828577e-01, 9.99997973e-01,\n",
              "        9.99994993e-01, 9.99993920e-01, 9.99979377e-01, 9.99819815e-01,\n",
              "        9.99075532e-01, 9.98683393e-01, 9.99657154e-01, 9.99794900e-01,\n",
              "        9.98238206e-01, 9.98160064e-01, 9.98961091e-01, 1.00000000e+00,\n",
              "        9.99609649e-01, 8.97260070e-01, 9.92591739e-01, 9.99919176e-01,\n",
              "        9.99988914e-01, 9.99998212e-01, 9.99999762e-01, 1.00000000e+00,\n",
              "        9.99997854e-01, 9.99981403e-01, 9.99997377e-01, 9.99979258e-01,\n",
              "        9.99980569e-01, 9.99998331e-01, 9.99998808e-01, 9.99981284e-01,\n",
              "        9.99999762e-01, 9.91738737e-01, 9.99713123e-01, 9.99040425e-01,\n",
              "        9.99891996e-01, 9.99899626e-01, 9.99998927e-01, 9.99993563e-01,\n",
              "        1.00000000e+00, 9.99987006e-01, 1.00000000e+00, 9.99969244e-01,\n",
              "        9.99334514e-01, 9.99996781e-01, 9.99864459e-01, 9.99997497e-01,\n",
              "        9.99999523e-01, 9.99999523e-01, 9.95449483e-01, 9.99350607e-01,\n",
              "        9.98811722e-01, 9.91937935e-01, 9.83388424e-01, 9.99960184e-01,\n",
              "        9.99999762e-01, 9.99986410e-01, 9.94365573e-01, 9.99995470e-01,\n",
              "        9.99997139e-01, 9.91100132e-01, 9.99997020e-01, 9.99999762e-01,\n",
              "        9.93547022e-01, 9.40486670e-01, 8.62742722e-01, 9.35510039e-01,\n",
              "        9.94568944e-01, 9.56812441e-01, 4.93053079e-01, 9.99897003e-01,\n",
              "        8.56068611e-01, 9.66931999e-01, 8.47284496e-01, 8.62058282e-01,\n",
              "        4.47310537e-01, 1.54175490e-01, 9.71833587e-01, 9.84666348e-01,\n",
              "        9.99641180e-01, 9.96461093e-01, 9.99172866e-01, 9.83779609e-01,\n",
              "        9.88916636e-01, 9.93547261e-01, 9.91449773e-01, 9.99962926e-01,\n",
              "        4.05369580e-01, 9.95735288e-01, 9.99996185e-01, 9.80920196e-01,\n",
              "        9.74890053e-01, 9.59086061e-01, 9.85350847e-01, 9.95341301e-01,\n",
              "        9.94987011e-01, 8.24715018e-01, 9.91360486e-01, 9.98555243e-01,\n",
              "        9.94412839e-01, 9.94818866e-01, 9.27611113e-01, 9.98078704e-01,\n",
              "        9.99382973e-01, 9.97037888e-01, 6.59401834e-01, 9.75911140e-01,\n",
              "        9.57419693e-01, 8.46626163e-01, 9.63822603e-01, 9.77281392e-01,\n",
              "        9.36251462e-01, 9.99070883e-01, 9.99999285e-01, 9.99815404e-01,\n",
              "        9.99987483e-01, 9.99986053e-01, 9.98691618e-01, 9.67429221e-01,\n",
              "        9.99958754e-01, 9.99414921e-01, 9.99580085e-01, 6.88058078e-01,\n",
              "        9.44551170e-01, 9.83881950e-01, 9.76955533e-01, 2.20221549e-01,\n",
              "        8.59638512e-01, 9.91800129e-01, 9.84118104e-01, 5.08892834e-01,\n",
              "        9.97098207e-01, 9.95324373e-01, 9.99195516e-01, 9.99659657e-01,\n",
              "        9.98303413e-01, 9.99893427e-01, 9.99652624e-01, 9.86418307e-01,\n",
              "        8.70856702e-01, 9.94739830e-01, 9.99298930e-01, 9.79976296e-01,\n",
              "        9.87681925e-01, 9.78182554e-01, 9.91917551e-01, 9.96447563e-01,\n",
              "        9.98320043e-01, 9.98441637e-01, 9.99742687e-01, 9.98046756e-01,\n",
              "        9.97074485e-01, 9.78723526e-01, 9.95090246e-01, 9.99994993e-01,\n",
              "        9.20724213e-01, 9.95920658e-01, 9.95066762e-01, 9.87077355e-01,\n",
              "        9.40718830e-01, 8.61881852e-01, 9.52417135e-01, 9.99802291e-01,\n",
              "        7.61233330e-01, 9.74768698e-01, 9.99979734e-01, 8.13059807e-01,\n",
              "        6.50996923e-01, 9.97827351e-01, 6.55605257e-01, 5.19000828e-01,\n",
              "        9.99889493e-01, 9.98737037e-01, 9.96230423e-01, 9.24424529e-01,\n",
              "        9.99072433e-01, 9.99549329e-01, 9.95141268e-01, 9.98666167e-01,\n",
              "        9.96873975e-01, 7.43111610e-01, 9.98748302e-01, 9.29711640e-01,\n",
              "        9.99981880e-01, 9.56913292e-01, 9.99999285e-01, 9.34155405e-01,\n",
              "        9.22872245e-01, 9.42492366e-01, 9.99965668e-01, 8.22985113e-01,\n",
              "        9.64685917e-01, 7.79132485e-01, 9.97567177e-01, 9.90067244e-01,\n",
              "        8.93516123e-01, 9.96887505e-01, 9.99922991e-01, 9.94591177e-01,\n",
              "        9.99462545e-01, 9.98381138e-01, 9.97064412e-01, 9.93375719e-01,\n",
              "        2.11662412e-01, 2.08363965e-01, 9.66745377e-01, 9.99596775e-01,\n",
              "        7.99781263e-01, 9.90907192e-01, 9.18195128e-01, 9.85497177e-01,\n",
              "        9.95689452e-01, 9.79695559e-01, 8.75397742e-01, 9.05231178e-01,\n",
              "        4.58944619e-01, 9.84084845e-01, 9.99468267e-01, 9.99992251e-01,\n",
              "        9.99777853e-01, 9.99578059e-01, 9.99934077e-01, 9.99996543e-01,\n",
              "        9.28247929e-01, 9.99999881e-01, 1.00000000e+00, 9.99344528e-01,\n",
              "        9.99974966e-01, 9.98650730e-01, 9.98264492e-01, 9.17106509e-01,\n",
              "        9.99990106e-01, 9.99994397e-01, 9.99996066e-01, 9.99987006e-01,\n",
              "        9.99527097e-01, 9.94366288e-01, 9.99781549e-01, 9.93494809e-01,\n",
              "        9.99999881e-01, 9.95787203e-01, 9.59051967e-01, 9.97300923e-01,\n",
              "        9.99921560e-01, 9.89340127e-01, 9.97759104e-01, 9.99993324e-01,\n",
              "        9.99078870e-01, 9.99702036e-01, 9.95084584e-01, 9.94350910e-01,\n",
              "        9.44253862e-01, 9.96219814e-01, 9.97322381e-01, 9.99304891e-01,\n",
              "        9.86483753e-01, 9.97683406e-01, 9.99702513e-01, 9.99850750e-01,\n",
              "        9.97993827e-01, 9.99992847e-01, 9.98816371e-01, 9.98323143e-01,\n",
              "        9.99819696e-01, 9.91988719e-01, 9.99914646e-01, 9.99914289e-01,\n",
              "        9.89396632e-01, 9.99130428e-01, 9.91420627e-01, 9.99974132e-01,\n",
              "        9.74638581e-01, 9.99999523e-01, 9.99999642e-01, 9.99883652e-01,\n",
              "        9.99997258e-01, 6.81135952e-01, 9.95125115e-01, 9.99999762e-01,\n",
              "        9.99914765e-01, 9.99999762e-01, 9.83879268e-01, 9.99897480e-01,\n",
              "        9.99999642e-01, 9.99995708e-01, 9.99999762e-01, 9.13516045e-01,\n",
              "        9.18375969e-01, 9.58809614e-01, 9.99913096e-01, 9.99999642e-01,\n",
              "        9.99988556e-01, 9.99995470e-01, 9.99933600e-01, 9.99994874e-01,\n",
              "        9.99997258e-01, 9.95437205e-01, 3.81306112e-01, 9.91421044e-01,\n",
              "        1.70586109e-01, 5.96050918e-01, 9.46886122e-01, 7.14782298e-01,\n",
              "        9.76596892e-01, 9.99222159e-01, 9.13064659e-01, 9.58670676e-01,\n",
              "        9.59881842e-01]], dtype=float32)"
            ]
          },
          "metadata": {},
          "execution_count": 43
        }
      ]
    },
    {
      "cell_type": "code",
      "source": [
        "test_set.classes.reshape((1,-1))"
      ],
      "metadata": {
        "colab": {
          "base_uri": "https://localhost:8080/"
        },
        "id": "amOUVrasn8No",
        "outputId": "ec574801-18f9-466d-d8e3-34ea317e1573"
      },
      "execution_count": 51,
      "outputs": [
        {
          "output_type": "execute_result",
          "data": {
            "text/plain": [
              "array([[0, 0, 0, 0, 0, 0, 0, 0, 0, 0, 0, 0, 0, 0, 0, 0, 0, 0, 0, 0, 0, 0,\n",
              "        0, 0, 0, 0, 0, 0, 0, 0, 0, 0, 0, 0, 0, 0, 0, 0, 0, 0, 0, 0, 0, 0,\n",
              "        0, 0, 0, 0, 0, 0, 0, 0, 0, 0, 0, 0, 0, 0, 0, 0, 0, 0, 0, 0, 0, 0,\n",
              "        0, 0, 0, 0, 0, 0, 0, 0, 0, 0, 0, 0, 0, 0, 0, 0, 0, 0, 0, 0, 0, 0,\n",
              "        0, 0, 0, 0, 0, 0, 0, 0, 0, 0, 0, 0, 0, 0, 0, 0, 0, 0, 0, 0, 0, 0,\n",
              "        0, 0, 0, 0, 0, 0, 0, 0, 0, 0, 0, 0, 0, 0, 0, 0, 0, 0, 0, 0, 0, 0,\n",
              "        0, 0, 0, 0, 0, 0, 0, 0, 0, 0, 0, 0, 0, 0, 0, 0, 0, 0, 0, 0, 0, 0,\n",
              "        0, 0, 0, 0, 0, 0, 0, 0, 0, 0, 0, 0, 0, 0, 0, 0, 0, 0, 0, 0, 0, 0,\n",
              "        0, 0, 0, 0, 0, 0, 0, 0, 0, 0, 0, 0, 0, 0, 0, 0, 0, 0, 0, 0, 0, 0,\n",
              "        0, 0, 0, 0, 0, 0, 0, 0, 0, 0, 0, 0, 0, 0, 0, 0, 0, 0, 0, 0, 0, 0,\n",
              "        0, 0, 0, 0, 0, 0, 0, 0, 0, 0, 0, 0, 0, 0, 0, 0, 0, 0, 0, 0, 0, 0,\n",
              "        0, 0, 0, 0, 0, 0, 0, 0, 0, 0, 0, 0, 0, 0, 0, 0, 0, 0, 0, 0, 0, 0,\n",
              "        0, 0, 0, 0, 0, 0, 0, 0, 0, 0, 0, 0, 0, 0, 0, 0, 0, 0, 0, 0, 0, 0,\n",
              "        0, 0, 0, 0, 1, 1, 1, 1, 1, 1, 1, 1, 1, 1, 1, 1, 1, 1, 1, 1, 1, 1,\n",
              "        1, 1, 1, 1, 1, 1, 1, 1, 1, 1, 1, 1, 1, 1, 1, 1, 1, 1, 1, 1, 1, 1,\n",
              "        1, 1, 1, 1, 1, 1, 1, 1, 1, 1, 1, 1, 1, 1, 1, 1, 1, 1, 1, 1, 1, 1,\n",
              "        1, 1, 1, 1, 1, 1, 1, 1, 1, 1, 1, 1, 1, 1, 1, 1, 1, 1, 1, 1, 1, 1,\n",
              "        1, 1, 1, 1, 1, 1, 1, 1, 1, 1, 1, 1, 1, 1, 1, 1, 1, 1, 1, 1, 1, 1,\n",
              "        1, 1, 1, 1, 1, 1, 1, 1, 1, 1, 1, 1, 1, 1, 1, 1, 1, 1, 1, 1, 1, 1,\n",
              "        1, 1, 1, 1, 1, 1, 1, 1, 1, 1, 1, 1, 1, 1, 1, 1, 1, 1, 1, 1, 1, 1,\n",
              "        1, 1, 1, 1, 1, 1, 1, 1, 1, 1, 1, 1, 1, 1, 1, 1, 1, 1, 1, 1, 1, 1,\n",
              "        1, 1, 1, 1, 1, 1, 1, 1, 1, 1, 1, 1, 1, 1, 1, 1, 1, 1, 1, 1, 1, 1,\n",
              "        1, 1, 1, 1, 1, 1, 1, 1, 1, 1, 1, 1, 1, 1, 1, 1, 1, 1, 1, 1, 1, 1,\n",
              "        1, 1, 1, 1, 1, 1, 1, 1, 1, 1, 1, 1, 1, 1, 1, 1, 1, 1, 1, 1, 1, 1,\n",
              "        1, 1, 1, 1, 1, 1, 1, 1, 1, 1, 1, 1, 1, 1, 1, 1, 1, 1, 1, 1, 1, 1,\n",
              "        1, 1, 1, 1, 1, 1, 1, 1, 1, 1, 1, 1, 1, 1, 1, 1, 1, 1, 1, 1, 1, 1,\n",
              "        1, 1, 1, 1, 1, 1, 1, 1, 1, 1, 1, 1, 1, 1, 1, 1, 1, 1, 1, 1, 1, 1,\n",
              "        1, 1, 1]], dtype=int32)"
            ]
          },
          "metadata": {},
          "execution_count": 51
        }
      ]
    },
    {
      "cell_type": "code",
      "execution_count": null,
      "metadata": {
        "id": "D25VYtRrGWeR"
      },
      "outputs": [],
      "source": [
        "param_grid = {\n",
        "    'filters': [16, 32, 64],\n",
        "    'kernel_size': [(3, 3), (5, 5)],\n",
        "    'pool_size': [(2, 2), (3, 3)],\n",
        "    'dense_units': [64, 128, 256],\n",
        "    'dropout_rate': [0.2, 0.3, 0.4],\n",
        "    'batch_size': [32, 64],\n",
        "    'epochs': [10, 20]\n",
        "}\n",
        "\n",
        "print(training_set)\n",
        "\n",
        "# Perform grid search cross-validation\n",
        "f1_scorer = make_scorer(f1_score)\n",
        "grid = GridSearchCV(estimator=cnn, param_grid=param_grid, cv=3, scoring=f1_scorer)\n",
        "grid_result = grid.fit(X=training_set.classes, prediction_labels)\n",
        "\n",
        "# Step 4: Print the results\n",
        "print(\"Best F1 score: %f using %s\" % (grid_result.best_score_, grid_result.best_params_))\n",
        "means = grid_result.cv_results_['mean_test_score']\n",
        "stds = grid_result.cv_results_['std_test_score']\n",
        "params = grid_result.cv_results_['params']\n",
        "for mean, std, param in zip(means, stds, params):\n",
        "    print(\"%f (%f) with: %r\" % (mean, std, param))"
      ]
    },
    {
      "cell_type": "code",
      "execution_count": null,
      "metadata": {
        "id": "9iUfkRunGWeS"
      },
      "outputs": [],
      "source": [
        "clf = KerasClassifier(cnn, loss=\"categorical_crossentropy\", batch_size=32,\n",
        "    optimizer='Adam', metrics={'BinaryAccuracy','FalseNegatives'}, validation_split=20.0, epochs=20, class_weight=8)"
      ]
    },
    {
      "cell_type": "code",
      "execution_count": null,
      "metadata": {
        "id": "MEKto78MGWeS"
      },
      "outputs": [],
      "source": [
        "clf.fit(training_set, test_set, epochs=20, batch=32, n_jobs=-1)"
      ]
    },
    {
      "cell_type": "code",
      "execution_count": null,
      "metadata": {
        "id": "MGPzEa7eGWeS"
      },
      "outputs": [],
      "source": [
        "result_c = clf.predict(input_array)\n",
        "print(result_c)\n",
        "training_set.class_indices\n",
        "if result_c[0][0] >= 0.5:\n",
        "  predictions = 'Flip'\n",
        "else:\n",
        "  predictions = 'NotFlip'\n",
        "\n",
        "print(predictions)"
      ]
    }
  ],
  "metadata": {
    "colab": {
      "provenance": [],
      "gpuType": "T4",
      "include_colab_link": true
    },
    "kernelspec": {
      "display_name": "Python 3",
      "name": "python3"
    },
    "language_info": {
      "codemirror_mode": {
        "name": "ipython",
        "version": 3
      },
      "file_extension": ".py",
      "mimetype": "text/x-python",
      "name": "python",
      "nbconvert_exporter": "python",
      "pygments_lexer": "ipython3",
      "version": "3.11.4"
    },
    "accelerator": "GPU"
  },
  "nbformat": 4,
  "nbformat_minor": 0
}