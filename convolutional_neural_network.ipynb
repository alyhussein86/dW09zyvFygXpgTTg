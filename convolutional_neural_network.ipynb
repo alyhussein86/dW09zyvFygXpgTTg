{
  "cells": [
    {
      "cell_type": "markdown",
      "metadata": {
        "colab_type": "text",
        "id": "3DR-eO17geWu"
      },
      "source": [
        "# Convolutional Neural Network"
      ]
    },
    {
      "cell_type": "markdown",
      "metadata": {
        "colab_type": "text",
        "id": "EMefrVPCg-60"
      },
      "source": [
        "### Importing the libraries"
      ]
    },
    {
      "cell_type": "code",
      "execution_count": 45,
      "metadata": {
        "colab": {},
        "colab_type": "code",
        "id": "sCV30xyVhFbE"
      },
      "outputs": [],
      "source": [
        "import tensorflow as tf\n",
        "from PIL import Image\n",
        "from keras.preprocessing.image import ImageDataGenerator\n",
        "import numpy as np"
      ]
    },
    {
      "cell_type": "code",
      "execution_count": 46,
      "metadata": {
        "colab": {},
        "colab_type": "code",
        "id": "FIleuCAjoFD8"
      },
      "outputs": [
        {
          "data": {
            "text/plain": [
              "'2.12.0'"
            ]
          },
          "execution_count": 46,
          "metadata": {},
          "output_type": "execute_result"
        }
      ],
      "source": [
        "tf.__version__"
      ]
    },
    {
      "cell_type": "markdown",
      "metadata": {
        "colab_type": "text",
        "id": "oxQxCBWyoGPE"
      },
      "source": [
        "## Part 1 - Data Preprocessing"
      ]
    },
    {
      "cell_type": "markdown",
      "metadata": {
        "colab_type": "text",
        "id": "MvE-heJNo3GG"
      },
      "source": [
        "### Preprocessing the Training set"
      ]
    },
    {
      "cell_type": "code",
      "execution_count": 69,
      "metadata": {
        "colab": {},
        "colab_type": "code",
        "id": "0koUcJMJpEBD"
      },
      "outputs": [
        {
          "name": "stdout",
          "output_type": "stream",
          "text": [
            "Found 2392 images belonging to 2 classes.\n"
          ]
        }
      ],
      "source": [
        "train_datagen = ImageDataGenerator(rescale = 1./255,\n",
        "                                   shear_range = 0.2,\n",
        "                                   zoom_range = 0.2,\n",
        "                                   horizontal_flip = True)\n",
        "training_set = train_datagen.flow_from_directory('/Users/alyhussein/Documents/Apziva/Project 4 - MonReader/images/training',\n",
        "                                                 target_size = (64, 64),\n",
        "                                                 batch_size = 32,\n",
        "                                                 class_mode = 'binary')"
      ]
    },
    {
      "cell_type": "markdown",
      "metadata": {
        "colab_type": "text",
        "id": "mrCMmGw9pHys"
      },
      "source": [
        "### Preprocessing the Test set"
      ]
    },
    {
      "cell_type": "code",
      "execution_count": 48,
      "metadata": {
        "colab": {},
        "colab_type": "code",
        "id": "SH4WzfOhpKc3"
      },
      "outputs": [
        {
          "name": "stdout",
          "output_type": "stream",
          "text": [
            "Found 597 images belonging to 2 classes.\n"
          ]
        }
      ],
      "source": [
        "test_datagen = ImageDataGenerator(rescale = 1./255)\n",
        "test_set = test_datagen.flow_from_directory('/Users/alyhussein/Documents/Apziva/Project 4 - MonReader/images/testing',\n",
        "                                            target_size = (64, 64),\n",
        "                                            batch_size = 32,\n",
        "                                            class_mode = 'binary')"
      ]
    },
    {
      "cell_type": "markdown",
      "metadata": {
        "colab_type": "text",
        "id": "af8O4l90gk7B"
      },
      "source": [
        "## Part 2 - Building the CNN"
      ]
    },
    {
      "cell_type": "markdown",
      "metadata": {
        "colab_type": "text",
        "id": "ces1gXY2lmoX"
      },
      "source": [
        "### Initialising the CNN"
      ]
    },
    {
      "cell_type": "code",
      "execution_count": 49,
      "metadata": {
        "colab": {},
        "colab_type": "code",
        "id": "SAUt4UMPlhLS"
      },
      "outputs": [],
      "source": [
        "cnn = tf.keras.models.Sequential()"
      ]
    },
    {
      "cell_type": "markdown",
      "metadata": {
        "colab_type": "text",
        "id": "u5YJj_XMl5LF"
      },
      "source": [
        "### Step 1 - Convolution"
      ]
    },
    {
      "cell_type": "code",
      "execution_count": 50,
      "metadata": {
        "colab": {},
        "colab_type": "code",
        "id": "XPzPrMckl-hV"
      },
      "outputs": [],
      "source": [
        "cnn.add(tf.keras.layers.Conv2D(filters=32, kernel_size=3, activation='relu', input_shape=[64, 64, 3]))"
      ]
    },
    {
      "cell_type": "markdown",
      "metadata": {
        "colab_type": "text",
        "id": "tf87FpvxmNOJ"
      },
      "source": [
        "### Step 2 - Pooling"
      ]
    },
    {
      "cell_type": "code",
      "execution_count": 51,
      "metadata": {
        "colab": {},
        "colab_type": "code",
        "id": "ncpqPl69mOac"
      },
      "outputs": [],
      "source": [
        "cnn.add(tf.keras.layers.MaxPool2D(pool_size=2, strides=2))"
      ]
    },
    {
      "cell_type": "markdown",
      "metadata": {
        "colab_type": "text",
        "id": "xaTOgD8rm4mU"
      },
      "source": [
        "### Adding a second convolutional layer"
      ]
    },
    {
      "cell_type": "code",
      "execution_count": 52,
      "metadata": {
        "colab": {},
        "colab_type": "code",
        "id": "i_-FZjn_m8gk"
      },
      "outputs": [],
      "source": [
        "cnn.add(tf.keras.layers.Conv2D(filters=32, kernel_size=3, activation='relu'))\n",
        "cnn.add(tf.keras.layers.MaxPool2D(pool_size=2, strides=2))"
      ]
    },
    {
      "cell_type": "markdown",
      "metadata": {
        "colab_type": "text",
        "id": "tmiEuvTunKfk"
      },
      "source": [
        "### Step 3 - Flattening"
      ]
    },
    {
      "cell_type": "code",
      "execution_count": 53,
      "metadata": {
        "colab": {},
        "colab_type": "code",
        "id": "6AZeOGCvnNZn"
      },
      "outputs": [],
      "source": [
        "cnn.add(tf.keras.layers.Flatten())"
      ]
    },
    {
      "cell_type": "markdown",
      "metadata": {
        "colab_type": "text",
        "id": "dAoSECOm203v"
      },
      "source": [
        "### Step 4 - Full Connection"
      ]
    },
    {
      "cell_type": "code",
      "execution_count": 54,
      "metadata": {
        "colab": {},
        "colab_type": "code",
        "id": "8GtmUlLd26Nq"
      },
      "outputs": [],
      "source": [
        "cnn.add(tf.keras.layers.Dense(units=128, activation='relu'))"
      ]
    },
    {
      "cell_type": "markdown",
      "metadata": {
        "colab_type": "text",
        "id": "yTldFvbX28Na"
      },
      "source": [
        "### Step 5 - Output Layer"
      ]
    },
    {
      "cell_type": "code",
      "execution_count": 55,
      "metadata": {
        "colab": {},
        "colab_type": "code",
        "id": "1p_Zj1Mc3Ko_"
      },
      "outputs": [],
      "source": [
        "cnn.add(tf.keras.layers.Dense(units=1, activation='sigmoid'))"
      ]
    },
    {
      "cell_type": "markdown",
      "metadata": {
        "colab_type": "text",
        "id": "D6XkI90snSDl"
      },
      "source": [
        "## Part 3 - Training the CNN"
      ]
    },
    {
      "cell_type": "markdown",
      "metadata": {
        "colab_type": "text",
        "id": "vfrFQACEnc6i"
      },
      "source": [
        "### Compiling the CNN"
      ]
    },
    {
      "cell_type": "code",
      "execution_count": 56,
      "metadata": {
        "colab": {},
        "colab_type": "code",
        "id": "NALksrNQpUlJ"
      },
      "outputs": [],
      "source": [
        "cnn.compile(optimizer = 'adam', loss = 'binary_crossentropy', metrics = ['accuracy'])"
      ]
    },
    {
      "cell_type": "markdown",
      "metadata": {
        "colab_type": "text",
        "id": "ehS-v3MIpX2h"
      },
      "source": [
        "### Training the CNN on the Training set and evaluating it on the Test set"
      ]
    },
    {
      "cell_type": "code",
      "execution_count": 61,
      "metadata": {
        "colab": {},
        "colab_type": "code",
        "id": "XUj1W4PJptta"
      },
      "outputs": [
        {
          "name": "stdout",
          "output_type": "stream",
          "text": [
            "Epoch 1/30\n"
          ]
        },
        {
          "name": "stderr",
          "output_type": "stream",
          "text": [
            "2023-07-05 16:38:18.402563: I tensorflow/core/common_runtime/executor.cc:1197] [/device:CPU:0] (DEBUG INFO) Executor start aborting (this does not indicate an error and you can ignore this message): INVALID_ARGUMENT: You must feed a value for placeholder tensor 'Placeholder/_0' with dtype int32\n",
            "\t [[{{node Placeholder/_0}}]]\n"
          ]
        },
        {
          "name": "stdout",
          "output_type": "stream",
          "text": [
            "75/75 [==============================] - ETA: 0s - loss: 0.0486 - accuracy: 0.9824"
          ]
        },
        {
          "name": "stderr",
          "output_type": "stream",
          "text": [
            "2023-07-05 16:39:54.342662: I tensorflow/core/common_runtime/executor.cc:1197] [/device:CPU:0] (DEBUG INFO) Executor start aborting (this does not indicate an error and you can ignore this message): INVALID_ARGUMENT: You must feed a value for placeholder tensor 'Placeholder/_0' with dtype int32\n",
            "\t [[{{node Placeholder/_0}}]]\n"
          ]
        },
        {
          "name": "stdout",
          "output_type": "stream",
          "text": [
            "75/75 [==============================] - 113s 2s/step - loss: 0.0486 - accuracy: 0.9824 - val_loss: 0.0517 - val_accuracy: 0.9832\n",
            "Epoch 2/30\n",
            "75/75 [==============================] - 92s 1s/step - loss: 0.0518 - accuracy: 0.9799 - val_loss: 0.0185 - val_accuracy: 0.9916\n",
            "Epoch 3/30\n",
            "75/75 [==============================] - 85s 1s/step - loss: 0.0437 - accuracy: 0.9829 - val_loss: 0.0224 - val_accuracy: 0.9916\n",
            "Epoch 4/30\n",
            "75/75 [==============================] - 98s 1s/step - loss: 0.0557 - accuracy: 0.9799 - val_loss: 0.0490 - val_accuracy: 0.9832\n",
            "Epoch 5/30\n",
            "75/75 [==============================] - 100s 1s/step - loss: 0.0390 - accuracy: 0.9849 - val_loss: 0.0448 - val_accuracy: 0.9799\n",
            "Epoch 6/30\n",
            "75/75 [==============================] - 99s 1s/step - loss: 0.0397 - accuracy: 0.9866 - val_loss: 0.0343 - val_accuracy: 0.9866\n",
            "Epoch 7/30\n",
            "75/75 [==============================] - 90s 1s/step - loss: 0.0639 - accuracy: 0.9758 - val_loss: 0.0808 - val_accuracy: 0.9715\n",
            "Epoch 8/30\n",
            "75/75 [==============================] - 99s 1s/step - loss: 0.0390 - accuracy: 0.9858 - val_loss: 0.0189 - val_accuracy: 0.9950\n",
            "Epoch 9/30\n",
            "75/75 [==============================] - 94s 1s/step - loss: 0.0678 - accuracy: 0.9737 - val_loss: 0.0245 - val_accuracy: 0.9916\n",
            "Epoch 10/30\n",
            "75/75 [==============================] - 105s 1s/step - loss: 0.0383 - accuracy: 0.9875 - val_loss: 0.0671 - val_accuracy: 0.9765\n",
            "Epoch 11/30\n",
            "75/75 [==============================] - 122s 2s/step - loss: 0.0352 - accuracy: 0.9866 - val_loss: 0.0259 - val_accuracy: 0.9933\n",
            "Epoch 12/30\n",
            "75/75 [==============================] - 110s 1s/step - loss: 0.0265 - accuracy: 0.9891 - val_loss: 0.0164 - val_accuracy: 0.9966\n",
            "Epoch 13/30\n",
            "75/75 [==============================] - 99s 1s/step - loss: 0.0202 - accuracy: 0.9925 - val_loss: 0.0266 - val_accuracy: 0.9966\n",
            "Epoch 14/30\n",
            "75/75 [==============================] - 95s 1s/step - loss: 0.0236 - accuracy: 0.9887 - val_loss: 0.0507 - val_accuracy: 0.9799\n",
            "Epoch 15/30\n",
            "75/75 [==============================] - 102s 1s/step - loss: 0.0534 - accuracy: 0.9816 - val_loss: 0.0202 - val_accuracy: 0.9933\n",
            "Epoch 16/30\n",
            "75/75 [==============================] - 91s 1s/step - loss: 0.0453 - accuracy: 0.9837 - val_loss: 0.0523 - val_accuracy: 0.9849\n",
            "Epoch 17/30\n",
            "75/75 [==============================] - 97s 1s/step - loss: 0.0348 - accuracy: 0.9866 - val_loss: 0.0249 - val_accuracy: 0.9933\n",
            "Epoch 18/30\n",
            "75/75 [==============================] - 96s 1s/step - loss: 0.0469 - accuracy: 0.9858 - val_loss: 0.0194 - val_accuracy: 0.9966\n",
            "Epoch 19/30\n",
            "75/75 [==============================] - 84s 1s/step - loss: 0.0321 - accuracy: 0.9887 - val_loss: 0.0210 - val_accuracy: 0.9933\n",
            "Epoch 20/30\n",
            "75/75 [==============================] - 104s 1s/step - loss: 0.0208 - accuracy: 0.9929 - val_loss: 0.0119 - val_accuracy: 0.9966\n",
            "Epoch 21/30\n",
            "75/75 [==============================] - 86s 1s/step - loss: 0.0265 - accuracy: 0.9908 - val_loss: 0.0201 - val_accuracy: 0.9899\n",
            "Epoch 22/30\n",
            "75/75 [==============================] - 94s 1s/step - loss: 0.0242 - accuracy: 0.9916 - val_loss: 0.0309 - val_accuracy: 0.9899\n",
            "Epoch 23/30\n",
            "75/75 [==============================] - 83s 1s/step - loss: 0.0120 - accuracy: 0.9967 - val_loss: 0.0089 - val_accuracy: 0.9983\n",
            "Epoch 24/30\n",
            "75/75 [==============================] - 99s 1s/step - loss: 0.0170 - accuracy: 0.9950 - val_loss: 0.0400 - val_accuracy: 0.9816\n",
            "Epoch 25/30\n",
            "75/75 [==============================] - 87s 1s/step - loss: 0.0335 - accuracy: 0.9875 - val_loss: 0.0784 - val_accuracy: 0.9715\n",
            "Epoch 26/30\n",
            "75/75 [==============================] - 94s 1s/step - loss: 0.0316 - accuracy: 0.9883 - val_loss: 0.0293 - val_accuracy: 0.9916\n",
            "Epoch 27/30\n",
            "75/75 [==============================] - 98s 1s/step - loss: 0.0347 - accuracy: 0.9875 - val_loss: 0.0311 - val_accuracy: 0.9883\n",
            "Epoch 28/30\n",
            "75/75 [==============================] - 104s 1s/step - loss: 0.0534 - accuracy: 0.9795 - val_loss: 0.0161 - val_accuracy: 0.9916\n",
            "Epoch 29/30\n",
            "75/75 [==============================] - 105s 1s/step - loss: 0.0421 - accuracy: 0.9849 - val_loss: 0.0556 - val_accuracy: 0.9715\n",
            "Epoch 30/30\n",
            "75/75 [==============================] - 97s 1s/step - loss: 0.0244 - accuracy: 0.9908 - val_loss: 0.0089 - val_accuracy: 0.9966\n"
          ]
        },
        {
          "data": {
            "text/plain": [
              "<keras.callbacks.History at 0x1510a6dd0>"
            ]
          },
          "execution_count": 61,
          "metadata": {},
          "output_type": "execute_result"
        }
      ],
      "source": [
        "cnn.fit(x = training_set, validation_data = test_set, epochs = 30)"
      ]
    },
    {
      "cell_type": "markdown",
      "metadata": {
        "colab_type": "text",
        "id": "U3PZasO0006Z"
      },
      "source": [
        "## Part 4 - Making a single prediction"
      ]
    },
    {
      "cell_type": "code",
      "execution_count": 65,
      "metadata": {
        "colab": {},
        "colab_type": "code",
        "id": "gsSiWEJY1BPB"
      },
      "outputs": [
        {
          "name": "stdout",
          "output_type": "stream",
          "text": [
            "1/1 [==============================] - 0s 59ms/step\n"
          ]
        }
      ],
      "source": [
        "# test_image = Image.open('/Users/alyhussein/Documents/Apziva/Project 4 - MonReader/0024_000000022.jpg')\n",
        "test_image =  Image.open('/Users/alyhussein/Documents/Apziva/Project 4 - MonReader/0039_000000009.jpg')\n",
        "test_image = test_image.resize((64, 64))\n",
        "image_array = np.array(test_image)/255.0\n",
        "# Reshape the image array to match the input shape expected by the model\n",
        "input_array = image_array.reshape(1, 64, 64, 3)  # Assuming a color image with shape (64, 64, 3)\n",
        "# test_image = np.expand_dims(test_image, axis = 0)\n",
        "result = cnn.predict(input_array)\n",
        "training_set.class_indices\n",
        "if result[0][0] == 1:\n",
        "  prediction = 'Flip'\n",
        "else:\n",
        "  prediction = 'Noflip'"
      ]
    },
    {
      "cell_type": "code",
      "execution_count": 67,
      "metadata": {
        "colab": {},
        "colab_type": "code",
        "id": "ED9KB3I54c1i"
      },
      "outputs": [
        {
          "name": "stdout",
          "output_type": "stream",
          "text": [
            "Noflip\n"
          ]
        }
      ],
      "source": [
        "print(prediction)"
      ]
    }
  ],
  "metadata": {
    "colab": {
      "collapsed_sections": [],
      "name": "convolutional_neural_network.ipynb",
      "provenance": [],
      "toc_visible": true
    },
    "kernelspec": {
      "display_name": "Python 3",
      "name": "python3"
    },
    "language_info": {
      "codemirror_mode": {
        "name": "ipython",
        "version": 3
      },
      "file_extension": ".py",
      "mimetype": "text/x-python",
      "name": "python",
      "nbconvert_exporter": "python",
      "pygments_lexer": "ipython3",
      "version": "3.11.4"
    }
  },
  "nbformat": 4,
  "nbformat_minor": 0
}
